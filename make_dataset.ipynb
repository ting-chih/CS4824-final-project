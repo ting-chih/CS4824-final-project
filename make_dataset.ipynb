{
 "cells": [
  {
   "cell_type": "code",
   "execution_count": 1,
   "metadata": {},
   "outputs": [],
   "source": [
    "import numpy as np\n",
    "import pandas as pd\n",
    "import csv\n",
    "import os\n",
    "import nltk\n",
    "from sklearn import metrics\n",
    "from sklearn.feature_extraction.text import CountVectorizer, TfidfVectorizer, HashingVectorizer, TfidfTransformer\n",
    "from sklearn.naive_bayes import MultinomialNB\n",
    "from sklearn.pipeline import Pipeline\n",
    "from sklearn.model_selection import cross_val_score, KFold\n",
    "from scipy.stats import sem "
   ]
  },
  {
   "cell_type": "code",
   "execution_count": 2,
   "metadata": {},
   "outputs": [],
   "source": [
    "path_dev_news = '/home/tingchih/ml/Project/dev/dev_news.csv'\n",
    "path_dev_behaviors = '/home/tingchih/ml/Project/dev/behaviors.tsv'"
   ]
  },
  {
   "cell_type": "code",
   "execution_count": 3,
   "metadata": {},
   "outputs": [],
   "source": [
    "beha_column = ['ImpressionID','userID','time','history','impressions']\n",
    "dev_beha = pd.read_table(path_dev_behaviors,header=None,names=beha_column)"
   ]
  },
  {
   "cell_type": "code",
   "execution_count": 30,
   "metadata": {},
   "outputs": [
    {
     "data": {
      "text/plain": [
       "\"\\n1. example: Dictionary news:{'news title1':1 , 'news title2':0 , ....}\\n2. split news Dictionary to training set, validation set, testing set\\n3. training set(x_train,y_train) , validation set(x_val,y_val) , testing set(x_test,y_test)\\n\""
      ]
     },
     "execution_count": 30,
     "metadata": {},
     "output_type": "execute_result"
    }
   ],
   "source": [
    "\"\"\"\n",
    "1. example: Dictionary news:{'news title1':1 , 'news title2':0 , ....}\n",
    "2. split news Dictionary to training set, validation set, testing set\n",
    "3. training set(x_train,y_train) , validation set(x_val,y_val) , testing set(x_test,y_test)\n",
    "\"\"\""
   ]
  },
  {
   "cell_type": "code",
   "execution_count": null,
   "metadata": {},
   "outputs": [],
   "source": [
    "# from behaviors.tsv extract news ID and impression\n",
    "#imp = dev_beha['impressions'][8]\n",
    "#a = split_beha_info(imp)\n",
    "#for key in sorted(a.keys()):\n",
    "#    print(key,a[key])\n",
    "\n",
    "newsID , impression = make_news_dictionary()"
   ]
  },
  {
   "cell_type": "code",
   "execution_count": 13,
   "metadata": {},
   "outputs": [
    {
     "name": "stdout",
     "output_type": "stream",
     "text": [
      "<class 'int'>\n",
      "192\n"
     ]
    }
   ],
   "source": [
    "print(type(impression[0]))\n",
    "count = 0\n",
    "for i in range(0,len(impression)):\n",
    "    if impression[i] == 1:\n",
    "        count = count+1\n",
    "print(count)"
   ]
  },
  {
   "cell_type": "code",
   "execution_count": null,
   "metadata": {},
   "outputs": [],
   "source": [
    "news_info = []\n",
    "for i in range(0,len(newsID)):\n",
    "    text = extract_news(newsID[i])\n",
    "    news_info.append(text)\n",
    "    print(i)"
   ]
  },
  {
   "cell_type": "code",
   "execution_count": 15,
   "metadata": {},
   "outputs": [
    {
     "name": "stdout",
     "output_type": "stream",
     "text": [
      "4780\n",
      "4780\n"
     ]
    }
   ],
   "source": [
    "print(len(news_info))\n",
    "print(len(impression))"
   ]
  },
  {
   "cell_type": "code",
   "execution_count": 16,
   "metadata": {},
   "outputs": [],
   "source": [
    "x_train = []\n",
    "y_train = []\n",
    "\n",
    "x_val = []\n",
    "y_val = []\n",
    "\n",
    "x_test = []\n",
    "y_test = []"
   ]
  },
  {
   "cell_type": "code",
   "execution_count": 17,
   "metadata": {},
   "outputs": [],
   "source": [
    "for i in range(0,2868):\n",
    "    x_train.append(news_info[i])\n",
    "    y_train.append(impression[i])\n",
    "for i in range(2868,3824):\n",
    "    x_val.append(news_info[i])\n",
    "    y_val.append(impression[i])\n",
    "for i in range(3824,4780):\n",
    "    x_test.append(news_info[i])\n",
    "    y_test.append(impression[i])"
   ]
  },
  {
   "cell_type": "code",
   "execution_count": 18,
   "metadata": {},
   "outputs": [
    {
     "name": "stdout",
     "output_type": "stream",
     "text": [
      "2868 2868\n",
      "956 956\n",
      "956 956\n"
     ]
    }
   ],
   "source": [
    "print(len(x_train),len(y_train))\n",
    "print(len(x_val),len(y_val))\n",
    "print(len(x_test),len(y_test))"
   ]
  },
  {
   "cell_type": "code",
   "execution_count": 28,
   "metadata": {},
   "outputs": [
    {
     "name": "stdout",
     "output_type": "stream",
     "text": [
      "The most talked about movie moments of the 2010sLet's try to emphasize the positive, but there's one particular sequence that was so special in its awfulness, it had to go on this list. See if you can guess which one it is.\n",
      "<class 'str'>\n"
     ]
    }
   ],
   "source": [
    "print(x_train[0])\n",
    "print(type(x_train[0]))"
   ]
  },
  {
   "cell_type": "code",
   "execution_count": 32,
   "metadata": {},
   "outputs": [],
   "source": [
    "text_file = open(\"x_train.txt\", \"w\")\n",
    "for i in range(len(x_train)):\n",
    "    text_file.write(x_train[i])\n",
    "text_file.close()"
   ]
  },
  {
   "cell_type": "code",
   "execution_count": 6,
   "metadata": {},
   "outputs": [],
   "source": [
    "def make_news_dictionary():\n",
    "    #news = {}\n",
    "    nID = []\n",
    "    record = []\n",
    "    for k in range(0,42417):\n",
    "        impresson = dev_beha['impressions'][k] # impression is a string ex: N12334-1 N4566-0 ...\n",
    "        individual_impression = split_beha_info(impresson)\n",
    "        for key in sorted(individual_impression.keys()):\n",
    "            if key not in nID:\n",
    "                nID.append(key)\n",
    "                record.append(individual_impression[key])\n",
    "                print(key,individual_impression[key])\n",
    "\n",
    "    return nID , record"
   ]
  },
  {
   "cell_type": "code",
   "execution_count": 7,
   "metadata": {},
   "outputs": [],
   "source": [
    "def extract_news(newsID):\n",
    "    \n",
    "    with open(path_dev_news, newline='',encoding='utf8') as csvfiler:\n",
    "        rows = csv.DictReader(csvfiler)\n",
    "        for row in rows:\n",
    "            if row['NewsID'] == newsID:\n",
    "                title = row['Title']\n",
    "                abstract = row['Abstract']\n",
    "                total = title + abstract\n",
    "    return total"
   ]
  },
  {
   "cell_type": "code",
   "execution_count": 8,
   "metadata": {},
   "outputs": [],
   "source": [
    "def extract_behaviors(uID):\n",
    "    impression = []\n",
    "    for i in range(0,len(dev_beha)):\n",
    "        if dev_beha['userID'][i] == uID:\n",
    "            impression.append(dev_beha['impressions'][i])\n",
    "            \n",
    "    return impression"
   ]
  },
  {
   "cell_type": "code",
   "execution_count": 9,
   "metadata": {},
   "outputs": [],
   "source": [
    "def split_news_info(Array):\n",
    "    if len(Array) == 0:\n",
    "        return\n",
    "    else:\n",
    "        ans = []\n",
    "        count = ''\n",
    "        length = len(Array)\n",
    "        for i in range(0,length):\n",
    "            for j in range(0,len(Array[i])):\n",
    "                if Array[i][j] == 'N':\n",
    "                    count += Array[i][j]\n",
    "                elif Array[i][j] == ' ':\n",
    "                    ans.append(count)\n",
    "                    count = ''\n",
    "                elif j == len(Array[i])-1:\n",
    "                    count += Array[i][j]\n",
    "                    ans.append(count)\n",
    "                    count = ''\n",
    "                else:\n",
    "                    #0-9\n",
    "                    count += Array[i][j]\n",
    "        return ans"
   ]
  },
  {
   "cell_type": "code",
   "execution_count": 10,
   "metadata": {},
   "outputs": [],
   "source": [
    "def split_beha_info(impress):# impress is string\n",
    "    ans = {}\n",
    "    # example: ans ={'N55189':1,'N42782':1,...}\n",
    "    newsID = ''\n",
    "    length = len(impress)\n",
    "    for i in range(0,length):\n",
    "        if impress[i] == 'N':\n",
    "            newsID = ''\n",
    "            newsID += impress[i]\n",
    "        elif impress[i] == '-':\n",
    "            ans[newsID] = int(impress[i+1])\n",
    "            newsID = ''\n",
    "        else:\n",
    "            #0-9\n",
    "            newsID += impress[i]\n",
    "    return ans"
   ]
  },
  {
   "cell_type": "code",
   "execution_count": 11,
   "metadata": {},
   "outputs": [],
   "source": [
    "def extract_impression_news(dictionary):\n",
    "    dictionary_news = []\n",
    "    read = []\n",
    "    for news,impression in dictionary.items():\n",
    "        dictionary_news.append(news)\n",
    "        read.append(impression)\n",
    "    ans = []\n",
    "    for i in range(0,len(dictionary_news)):\n",
    "        with open(path_train_news, newline='',encoding='utf8') as csvfiler:\n",
    "            rows = csv.DictReader(csvfiler)\n",
    "            for row in rows:\n",
    "                if row['NewsID'] == dictionary_news[i]:\n",
    "                    title = row['Title']\n",
    "                    ans.append(title)\n",
    "            \n",
    "    return ans , read"
   ]
  }
 ],
 "metadata": {
  "kernelspec": {
   "display_name": "Python 3",
   "language": "python",
   "name": "python3"
  },
  "language_info": {
   "codemirror_mode": {
    "name": "ipython",
    "version": 3
   },
   "file_extension": ".py",
   "mimetype": "text/x-python",
   "name": "python",
   "nbconvert_exporter": "python",
   "pygments_lexer": "ipython3",
   "version": "3.6.9"
  },
  "orig_nbformat": 4
 },
 "nbformat": 4,
 "nbformat_minor": 2
}
