{
  "nbformat": 4,
  "nbformat_minor": 2,
  "metadata": {
    "colab": {
      "name": "NN.ipynb",
      "provenance": []
    },
    "kernelspec": {
      "name": "python3",
      "display_name": "Python 3.9.9 64-bit ('gpu': conda)"
    },
    "language_info": {
      "name": "python",
      "version": "3.9.9",
      "mimetype": "text/x-python",
      "codemirror_mode": {
        "name": "ipython",
        "version": 3
      },
      "pygments_lexer": "ipython3",
      "nbconvert_exporter": "python",
      "file_extension": ".py"
    },
    "interpreter": {
      "hash": "112133e99f08e250bfcc39b6d1d209aa723f8ca88a404a894f1f86a08f6b5247"
    }
  },
  "cells": [
    {
      "cell_type": "markdown",
      "source": [
        "Load library"
      ],
      "metadata": {
        "id": "1VFjy0KJks1-"
      }
    },
    {
      "cell_type": "code",
      "execution_count": 1,
      "source": [
        "from clean import data_preprocessing\n",
        "import numpy as np\n",
        "import pandas as pd\n",
        "\n",
        "from keras.wrappers.scikit_learn import KerasClassifier\n",
        "from keras.utils import np_utils\n",
        "import tensorflow as tf\n",
        "from tensorflow.keras import layers, models\n",
        "from tensorflow.keras.models import Sequential\n",
        "from tensorflow.keras.wrappers.scikit_learn import KerasClassifier\n",
        "from tensorflow.keras.layers import Conv1D, Conv2D, MaxPooling1D,GlobalMaxPool1D, MaxPool2D, Dense, Activation, Embedding, Input\n",
        "from tensorflow.keras.layers import ReLU, Flatten\n",
        "from tensorflow.keras.utils import to_categorical\n",
        "\n",
        "from sklearn.model_selection import train_test_split\n",
        "from sklearn.model_selection import cross_val_score\n",
        "from sklearn.model_selection import KFold\n",
        "from sklearn.preprocessing import LabelEncoder\n",
        "from sklearn.pipeline import Pipeline\n"
      ],
      "outputs": [
        {
          "output_type": "stream",
          "name": "stderr",
          "text": [
            "[nltk_data] Downloading package wordnet to /home/zoez/nltk_data...\n",
            "[nltk_data]   Package wordnet is already up-to-date!\n",
            "[nltk_data] Downloading package stopwords to /home/zoez/nltk_data...\n",
            "[nltk_data]   Package stopwords is already up-to-date!\n"
          ]
        }
      ],
      "metadata": {
        "colab": {
          "base_uri": "https://localhost:8080/"
        },
        "id": "sWZ8h7FkWQid",
        "outputId": "e8ceb7e2-b16d-45b6-c155-83d552af501a"
      }
    },
    {
      "cell_type": "code",
      "execution_count": 2,
      "source": [
        "from sklearn.feature_extraction.text import CountVectorizer \n",
        "from sklearn.feature_extraction.text import TfidfVectorizer"
      ],
      "outputs": [],
      "metadata": {
        "id": "WIk52ahQhLzT"
      }
    },
    {
      "cell_type": "markdown",
      "source": [
        "Read datasets"
      ],
      "metadata": {
        "id": "PCJi934ykypW"
      }
    },
    {
      "cell_type": "code",
      "execution_count": 3,
      "source": [
        "df = pd.read_csv('train.csv', index_col=0)\n",
        "test = pd.read_csv('test.csv', index_col=0)\n",
        "# Combine the features Title and Abstract into one\n",
        "df['News'] = df['Title'].str.cat(df['Abstract'],sep=\" \")\n",
        "test['News'] = test['Title'].str.cat(test['Abstract'],sep=\" \")\n",
        "# Drop all rows that contain NaN under those columns\n",
        "df.dropna(subset = [\"News\"], inplace=True)\n",
        "test.dropna(subset = [\"News\"], inplace=True)\n",
        "print('Length of the training dataset ', len(df))\n",
        "df.head()\n"
      ],
      "outputs": [
        {
          "output_type": "stream",
          "name": "stdout",
          "text": [
            "Length of the training dataset  77100\n"
          ]
        },
        {
          "output_type": "execute_result",
          "data": {
            "text/plain": [
              "    NewID   Category                                              Title  \\\n",
              "0  N88753  lifestyle  The Brands Queen Elizabeth, Prince Charles, an...   \n",
              "1  N45436       news    Walmart Slashes Prices on Last-Generation iPads   \n",
              "2  N23144     health                      50 Worst Habits For Belly Fat   \n",
              "4  N93187       news  The Cost of Trump's Aid Freeze in the Trenches...   \n",
              "5  N75236     health  I Was An NBA Wife. Here's How It Affected My M...   \n",
              "\n",
              "                                            Abstract  \\\n",
              "0  Shop the notebooks, jackets, and more that the...   \n",
              "1  Apple's new iPad releases bring big deals on l...   \n",
              "2  These seemingly harmless habits are holding yo...   \n",
              "4  Lt. Ivan Molchanets peeked over a parapet of s...   \n",
              "5  I felt like I was a fraud, and being an NBA wi...   \n",
              "\n",
              "                                                News  \n",
              "0  The Brands Queen Elizabeth, Prince Charles, an...  \n",
              "1  Walmart Slashes Prices on Last-Generation iPad...  \n",
              "2  50 Worst Habits For Belly Fat These seemingly ...  \n",
              "4  The Cost of Trump's Aid Freeze in the Trenches...  \n",
              "5  I Was An NBA Wife. Here's How It Affected My M...  "
            ],
            "text/html": [
              "<div>\n",
              "<style scoped>\n",
              "    .dataframe tbody tr th:only-of-type {\n",
              "        vertical-align: middle;\n",
              "    }\n",
              "\n",
              "    .dataframe tbody tr th {\n",
              "        vertical-align: top;\n",
              "    }\n",
              "\n",
              "    .dataframe thead th {\n",
              "        text-align: right;\n",
              "    }\n",
              "</style>\n",
              "<table border=\"1\" class=\"dataframe\">\n",
              "  <thead>\n",
              "    <tr style=\"text-align: right;\">\n",
              "      <th></th>\n",
              "      <th>NewID</th>\n",
              "      <th>Category</th>\n",
              "      <th>Title</th>\n",
              "      <th>Abstract</th>\n",
              "      <th>News</th>\n",
              "    </tr>\n",
              "  </thead>\n",
              "  <tbody>\n",
              "    <tr>\n",
              "      <th>0</th>\n",
              "      <td>N88753</td>\n",
              "      <td>lifestyle</td>\n",
              "      <td>The Brands Queen Elizabeth, Prince Charles, an...</td>\n",
              "      <td>Shop the notebooks, jackets, and more that the...</td>\n",
              "      <td>The Brands Queen Elizabeth, Prince Charles, an...</td>\n",
              "    </tr>\n",
              "    <tr>\n",
              "      <th>1</th>\n",
              "      <td>N45436</td>\n",
              "      <td>news</td>\n",
              "      <td>Walmart Slashes Prices on Last-Generation iPads</td>\n",
              "      <td>Apple's new iPad releases bring big deals on l...</td>\n",
              "      <td>Walmart Slashes Prices on Last-Generation iPad...</td>\n",
              "    </tr>\n",
              "    <tr>\n",
              "      <th>2</th>\n",
              "      <td>N23144</td>\n",
              "      <td>health</td>\n",
              "      <td>50 Worst Habits For Belly Fat</td>\n",
              "      <td>These seemingly harmless habits are holding yo...</td>\n",
              "      <td>50 Worst Habits For Belly Fat These seemingly ...</td>\n",
              "    </tr>\n",
              "    <tr>\n",
              "      <th>4</th>\n",
              "      <td>N93187</td>\n",
              "      <td>news</td>\n",
              "      <td>The Cost of Trump's Aid Freeze in the Trenches...</td>\n",
              "      <td>Lt. Ivan Molchanets peeked over a parapet of s...</td>\n",
              "      <td>The Cost of Trump's Aid Freeze in the Trenches...</td>\n",
              "    </tr>\n",
              "    <tr>\n",
              "      <th>5</th>\n",
              "      <td>N75236</td>\n",
              "      <td>health</td>\n",
              "      <td>I Was An NBA Wife. Here's How It Affected My M...</td>\n",
              "      <td>I felt like I was a fraud, and being an NBA wi...</td>\n",
              "      <td>I Was An NBA Wife. Here's How It Affected My M...</td>\n",
              "    </tr>\n",
              "  </tbody>\n",
              "</table>\n",
              "</div>"
            ]
          },
          "metadata": {},
          "execution_count": 3
        }
      ],
      "metadata": {
        "colab": {
          "base_uri": "https://localhost:8080/",
          "height": 355
        },
        "id": "el6XX5BfW2ae",
        "outputId": "fdd0b482-9257-499a-dc38-d3b8f6e1093e"
      }
    },
    {
      "cell_type": "code",
      "execution_count": 4,
      "source": [
        "df['clean-News'] = [data_preprocessing(line) for line in df['News']]\n",
        "test['clean-News'] = [data_preprocessing(line) for line in test['News']]\n",
        "df.head()"
      ],
      "outputs": [
        {
          "output_type": "execute_result",
          "data": {
            "text/plain": [
              "    NewID   Category                                              Title  \\\n",
              "0  N88753  lifestyle  The Brands Queen Elizabeth, Prince Charles, an...   \n",
              "1  N45436       news    Walmart Slashes Prices on Last-Generation iPads   \n",
              "2  N23144     health                      50 Worst Habits For Belly Fat   \n",
              "4  N93187       news  The Cost of Trump's Aid Freeze in the Trenches...   \n",
              "5  N75236     health  I Was An NBA Wife. Here's How It Affected My M...   \n",
              "\n",
              "                                            Abstract  \\\n",
              "0  Shop the notebooks, jackets, and more that the...   \n",
              "1  Apple's new iPad releases bring big deals on l...   \n",
              "2  These seemingly harmless habits are holding yo...   \n",
              "4  Lt. Ivan Molchanets peeked over a parapet of s...   \n",
              "5  I felt like I was a fraud, and being an NBA wi...   \n",
              "\n",
              "                                                News  \\\n",
              "0  The Brands Queen Elizabeth, Prince Charles, an...   \n",
              "1  Walmart Slashes Prices on Last-Generation iPad...   \n",
              "2  50 Worst Habits For Belly Fat These seemingly ...   \n",
              "4  The Cost of Trump's Aid Freeze in the Trenches...   \n",
              "5  I Was An NBA Wife. Here's How It Affected My M...   \n",
              "\n",
              "                                          clean-News  \n",
              "0  brand queen elizabeth prince charles prince ph...  \n",
              "1  walmart slash price last generation ipads appl...  \n",
              "2   worst habit belly fat seemingly harmless habi...  \n",
              "4  cost trumpaid freeze trench ukrainewar lt ivan...  \n",
              "5  nba wife hereaffect mental health felt like fr...  "
            ],
            "text/html": [
              "<div>\n",
              "<style scoped>\n",
              "    .dataframe tbody tr th:only-of-type {\n",
              "        vertical-align: middle;\n",
              "    }\n",
              "\n",
              "    .dataframe tbody tr th {\n",
              "        vertical-align: top;\n",
              "    }\n",
              "\n",
              "    .dataframe thead th {\n",
              "        text-align: right;\n",
              "    }\n",
              "</style>\n",
              "<table border=\"1\" class=\"dataframe\">\n",
              "  <thead>\n",
              "    <tr style=\"text-align: right;\">\n",
              "      <th></th>\n",
              "      <th>NewID</th>\n",
              "      <th>Category</th>\n",
              "      <th>Title</th>\n",
              "      <th>Abstract</th>\n",
              "      <th>News</th>\n",
              "      <th>clean-News</th>\n",
              "    </tr>\n",
              "  </thead>\n",
              "  <tbody>\n",
              "    <tr>\n",
              "      <th>0</th>\n",
              "      <td>N88753</td>\n",
              "      <td>lifestyle</td>\n",
              "      <td>The Brands Queen Elizabeth, Prince Charles, an...</td>\n",
              "      <td>Shop the notebooks, jackets, and more that the...</td>\n",
              "      <td>The Brands Queen Elizabeth, Prince Charles, an...</td>\n",
              "      <td>brand queen elizabeth prince charles prince ph...</td>\n",
              "    </tr>\n",
              "    <tr>\n",
              "      <th>1</th>\n",
              "      <td>N45436</td>\n",
              "      <td>news</td>\n",
              "      <td>Walmart Slashes Prices on Last-Generation iPads</td>\n",
              "      <td>Apple's new iPad releases bring big deals on l...</td>\n",
              "      <td>Walmart Slashes Prices on Last-Generation iPad...</td>\n",
              "      <td>walmart slash price last generation ipads appl...</td>\n",
              "    </tr>\n",
              "    <tr>\n",
              "      <th>2</th>\n",
              "      <td>N23144</td>\n",
              "      <td>health</td>\n",
              "      <td>50 Worst Habits For Belly Fat</td>\n",
              "      <td>These seemingly harmless habits are holding yo...</td>\n",
              "      <td>50 Worst Habits For Belly Fat These seemingly ...</td>\n",
              "      <td>worst habit belly fat seemingly harmless habi...</td>\n",
              "    </tr>\n",
              "    <tr>\n",
              "      <th>4</th>\n",
              "      <td>N93187</td>\n",
              "      <td>news</td>\n",
              "      <td>The Cost of Trump's Aid Freeze in the Trenches...</td>\n",
              "      <td>Lt. Ivan Molchanets peeked over a parapet of s...</td>\n",
              "      <td>The Cost of Trump's Aid Freeze in the Trenches...</td>\n",
              "      <td>cost trumpaid freeze trench ukrainewar lt ivan...</td>\n",
              "    </tr>\n",
              "    <tr>\n",
              "      <th>5</th>\n",
              "      <td>N75236</td>\n",
              "      <td>health</td>\n",
              "      <td>I Was An NBA Wife. Here's How It Affected My M...</td>\n",
              "      <td>I felt like I was a fraud, and being an NBA wi...</td>\n",
              "      <td>I Was An NBA Wife. Here's How It Affected My M...</td>\n",
              "      <td>nba wife hereaffect mental health felt like fr...</td>\n",
              "    </tr>\n",
              "  </tbody>\n",
              "</table>\n",
              "</div>"
            ]
          },
          "metadata": {},
          "execution_count": 4
        }
      ],
      "metadata": {
        "colab": {
          "base_uri": "https://localhost:8080/",
          "height": 337
        },
        "id": "k2GWOTINafue",
        "outputId": "d5535735-52b5-44d0-ad55-d58363a9eca3"
      }
    },
    {
      "cell_type": "code",
      "execution_count": 5,
      "source": [
        "x_clean_news_train = df['clean-News'].values\n",
        "x_clean_news_test = test['clean-News'].values\n",
        "x_fit=np.concatenate((x_clean_news_train,x_clean_news_test))\n",
        "\n",
        "clean_news_vectorize = CountVectorizer()\n",
        "clean_news_vectorize.fit(x_fit)\n",
        "#tf train matrix\n",
        "x_clean_news_train_tf = clean_news_vectorize.transform(x_clean_news_train)\n",
        "print(x_clean_news_train_tf.shape)\n",
        "\n",
        "tfidf_transformer = TfidfVectorizer()\n",
        "tfidf_transformer.fit(x_fit)\n",
        "#tf-idf train matrix\n",
        "x_clean_news_train_tfidf = tfidf_transformer.transform(x_clean_news_train)\n",
        "print(x_clean_news_train_tfidf.shape)\n"
      ],
      "outputs": [
        {
          "output_type": "stream",
          "name": "stdout",
          "text": [
            "(77100, 113722)\n",
            "(77100, 113722)\n"
          ]
        }
      ],
      "metadata": {
        "colab": {
          "base_uri": "https://localhost:8080/"
        },
        "id": "gsrNXiLsgh9E",
        "outputId": "cc5e1aeb-46d4-481e-aaca-9c1eb8b54cc9"
      }
    },
    {
      "cell_type": "code",
      "execution_count": 6,
      "source": [
        "#tf test matrix\n",
        "x_clean_news_test_tf = clean_news_vectorize.transform(x_clean_news_test)\n",
        "print(x_clean_news_test_tf.shape)\n",
        "\n",
        "#tf-idf test matrix\n",
        "x_clean_news_test_tfidf = tfidf_transformer.transform(x_clean_news_test)\n",
        "print(x_clean_news_test_tfidf.shape)\n"
      ],
      "outputs": [
        {
          "output_type": "stream",
          "name": "stdout",
          "text": [
            "(19012, 113722)\n",
            "(19012, 113722)\n"
          ]
        }
      ],
      "metadata": {
        "colab": {
          "base_uri": "https://localhost:8080/"
        },
        "outputId": "817f5cf0-5f61-4a6b-cc23-1d372b56d5ae",
        "id": "0ZOIW-gamSB2"
      }
    },
    {
      "cell_type": "code",
      "execution_count": 7,
      "source": [
        "y_train = df['Category'].values\n",
        "y_test = test['Category'].values\n",
        "y_fit=np.concatenate((y_train,y_test))\n",
        "encoder = LabelEncoder()\n",
        "encoder.fit(y_fit)\n",
        "\n",
        "encoded_Y = encoder.transform(y_train)\n",
        "y_train = to_categorical(encoded_Y)\n",
        "print(y_train.shape)"
      ],
      "outputs": [
        {
          "output_type": "stream",
          "name": "stdout",
          "text": [
            "(77100, 18)\n"
          ]
        }
      ],
      "metadata": {
        "colab": {
          "base_uri": "https://localhost:8080/"
        },
        "id": "ErcvRuDKo6Sf",
        "outputId": "3a357e80-1f5d-4a5c-c66b-47b951e8105f"
      }
    },
    {
      "cell_type": "code",
      "execution_count": 8,
      "source": [
        "encoded_Y_test = encoder.transform(y_test)\n",
        "y_test = to_categorical(encoded_Y_test)\n",
        "print(y_test.shape)"
      ],
      "outputs": [
        {
          "output_type": "stream",
          "name": "stdout",
          "text": [
            "(19012, 18)\n"
          ]
        }
      ],
      "metadata": {
        "colab": {
          "base_uri": "https://localhost:8080/"
        },
        "outputId": "ee4bb98c-a0b8-4b64-b885-ac886e2333f4",
        "id": "mpKgYPO-oO57"
      }
    },
    {
      "cell_type": "markdown",
      "source": [
        "fully connected dence neural network\n",
        "50 nodes -- 72%\n",
        "128 nodes -- 73%\n",
        "256 nodes -- 73%"
      ],
      "metadata": {
        "id": "Wd1l0nc1KLk9"
      }
    },
    {
      "cell_type": "code",
      "execution_count": 24,
      "source": [
        "tf_model = Sequential()\n",
        "tf_model.add(Dense(128, input_shape=(x_clean_news_train_tf.shape[1],), activation='relu'))\n",
        "tf_model.add(Dense(18, activation='softmax'))\n",
        "# Compile model\n",
        "tf_model.compile(loss='categorical_crossentropy', optimizer='adam', metrics=['accuracy'])\n",
        "\n",
        "tf_model.fit(x_clean_news_train_tf,y_train, epochs=10, verbose=2)"
      ],
      "outputs": [
        {
          "output_type": "stream",
          "name": "stdout",
          "text": [
            "Epoch 1/10\n"
          ]
        },
        {
          "output_type": "stream",
          "name": "stderr",
          "text": [
            "/home/zoez/.conda/envs/gpu/lib/python3.9/site-packages/tensorflow/python/framework/indexed_slices.py:447: UserWarning: Converting sparse IndexedSlices(IndexedSlices(indices=Tensor(\"gradient_tape/sequential_6/dense_13/embedding_lookup_sparse/Reshape_1:0\", shape=(None,), dtype=int32), values=Tensor(\"gradient_tape/sequential_6/dense_13/embedding_lookup_sparse/Reshape:0\", shape=(None, 128), dtype=float32), dense_shape=Tensor(\"gradient_tape/sequential_6/dense_13/embedding_lookup_sparse/Cast:0\", shape=(2,), dtype=int32))) to a dense Tensor of unknown shape. This may consume a large amount of memory.\n",
            "  warnings.warn(\n"
          ]
        },
        {
          "output_type": "stream",
          "name": "stdout",
          "text": [
            "2410/2410 - 22s - loss: 0.8870 - accuracy: 0.7337\n",
            "Epoch 2/10\n",
            "2410/2410 - 21s - loss: 0.3247 - accuracy: 0.8940\n",
            "Epoch 3/10\n",
            "2410/2410 - 21s - loss: 0.1194 - accuracy: 0.9643\n",
            "Epoch 4/10\n",
            "2410/2410 - 21s - loss: 0.0558 - accuracy: 0.9860\n",
            "Epoch 5/10\n",
            "2410/2410 - 21s - loss: 0.0363 - accuracy: 0.9916\n",
            "Epoch 6/10\n",
            "2410/2410 - 21s - loss: 0.0280 - accuracy: 0.9937\n",
            "Epoch 7/10\n",
            "2410/2410 - 21s - loss: 0.0238 - accuracy: 0.9949\n",
            "Epoch 8/10\n",
            "2410/2410 - 21s - loss: 0.0203 - accuracy: 0.9953\n",
            "Epoch 9/10\n",
            "2410/2410 - 21s - loss: 0.0200 - accuracy: 0.9954\n",
            "Epoch 10/10\n",
            "2410/2410 - 21s - loss: 0.0175 - accuracy: 0.9959\n"
          ]
        },
        {
          "output_type": "execute_result",
          "data": {
            "text/plain": [
              "<keras.callbacks.History at 0x7f38ccccd2b0>"
            ]
          },
          "metadata": {},
          "execution_count": 24
        }
      ],
      "metadata": {
        "colab": {
          "base_uri": "https://localhost:8080/"
        },
        "id": "LJDrDF81lvZf",
        "outputId": "45d3bb34-c60f-422c-a917-0225a2fd72ec"
      }
    },
    {
      "cell_type": "code",
      "execution_count": 25,
      "source": [
        "tf_model.summary()"
      ],
      "outputs": [
        {
          "output_type": "stream",
          "name": "stdout",
          "text": [
            "Model: \"sequential_6\"\n",
            "_________________________________________________________________\n",
            "Layer (type)                 Output Shape              Param #   \n",
            "=================================================================\n",
            "dense_13 (Dense)             (None, 128)               14556544  \n",
            "_________________________________________________________________\n",
            "dense_14 (Dense)             (None, 18)                2322      \n",
            "=================================================================\n",
            "Total params: 14,558,866\n",
            "Trainable params: 14,558,866\n",
            "Non-trainable params: 0\n",
            "_________________________________________________________________\n"
          ]
        }
      ],
      "metadata": {
        "colab": {
          "base_uri": "https://localhost:8080/"
        },
        "id": "HbHFISSSlglp",
        "outputId": "773c9521-c25f-4790-fbe4-0d83477f978b"
      }
    },
    {
      "cell_type": "code",
      "execution_count": 26,
      "source": [
        "# evaluate\n",
        "loss, acc = tf_model.evaluate(x_clean_news_test_tf, y_test, verbose=0)\n",
        "print('Test Accuracy: %f' % (acc*100))"
      ],
      "outputs": [
        {
          "output_type": "stream",
          "name": "stdout",
          "text": [
            "Test Accuracy: 73.343152\n"
          ]
        }
      ],
      "metadata": {
        "colab": {
          "base_uri": "https://localhost:8080/"
        },
        "id": "MuhA6hc-tpIi",
        "outputId": "c4ef5723-249e-4656-c357-3f08fce11d56"
      }
    },
    {
      "cell_type": "code",
      "execution_count": 27,
      "source": [
        "from sklearn import metrics\n",
        "from sklearn.metrics import multilabel_confusion_matrix, confusion_matrix\n",
        "\n",
        "predicted_tf=tf_model.predict(x_clean_news_test_tf)\n",
        "\n",
        "print(metrics.classification_report(np.argmax(y_test,axis=-1), np.argmax(predicted_tf,axis=-1),target_names=None))"
      ],
      "outputs": [
        {
          "output_type": "stream",
          "name": "stdout",
          "text": [
            "              precision    recall  f1-score   support\n",
            "\n",
            "           0       0.68      0.48      0.56       436\n",
            "           1       0.48      0.39      0.43       111\n",
            "           2       0.52      0.53      0.53      1064\n",
            "           3       0.73      0.72      0.73       731\n",
            "           5       0.63      0.54      0.58       417\n",
            "           6       0.00      0.00      0.00        16\n",
            "           7       0.37      0.37      0.37       587\n",
            "           9       0.65      0.46      0.54       127\n",
            "          10       0.77      0.62      0.69       278\n",
            "          11       0.68      0.79      0.73      6076\n",
            "          12       0.00      0.00      0.00         1\n",
            "          13       0.94      0.94      0.94      6090\n",
            "          14       0.44      0.37      0.40       951\n",
            "          15       0.54      0.36      0.43       227\n",
            "          16       0.54      0.32      0.40      1086\n",
            "          17       0.72      0.72      0.72       814\n",
            "\n",
            "    accuracy                           0.73     19012\n",
            "   macro avg       0.54      0.48      0.50     19012\n",
            "weighted avg       0.73      0.73      0.73     19012\n",
            "\n"
          ]
        },
        {
          "output_type": "stream",
          "name": "stderr",
          "text": [
            "/home/zoez/.conda/envs/gpu/lib/python3.9/site-packages/sklearn/metrics/_classification.py:1318: UndefinedMetricWarning: Precision and F-score are ill-defined and being set to 0.0 in labels with no predicted samples. Use `zero_division` parameter to control this behavior.\n",
            "  _warn_prf(average, modifier, msg_start, len(result))\n",
            "/home/zoez/.conda/envs/gpu/lib/python3.9/site-packages/sklearn/metrics/_classification.py:1318: UndefinedMetricWarning: Precision and F-score are ill-defined and being set to 0.0 in labels with no predicted samples. Use `zero_division` parameter to control this behavior.\n",
            "  _warn_prf(average, modifier, msg_start, len(result))\n",
            "/home/zoez/.conda/envs/gpu/lib/python3.9/site-packages/sklearn/metrics/_classification.py:1318: UndefinedMetricWarning: Precision and F-score are ill-defined and being set to 0.0 in labels with no predicted samples. Use `zero_division` parameter to control this behavior.\n",
            "  _warn_prf(average, modifier, msg_start, len(result))\n"
          ]
        }
      ],
      "metadata": {
        "colab": {
          "base_uri": "https://localhost:8080/"
        },
        "id": "KOm2wolQ_m36",
        "outputId": "39dc6a6d-3bab-4f08-927d-6da1abd883d7"
      }
    },
    {
      "cell_type": "markdown",
      "source": [
        "fully connected dence neural network with 2 dense layers"
      ],
      "metadata": {}
    },
    {
      "cell_type": "code",
      "execution_count": 36,
      "source": [
        "tf_model2 = Sequential()\n",
        "tf_model2.add(Dense(64, input_shape=(x_clean_news_train_tf.shape[1],), activation='relu'))\n",
        "tf_model2.add(Dense(64, activation='relu'))\n",
        "tf_model2.add(Dense(18, activation='softmax'))\n",
        "# Compile model\n",
        "tf_model2.compile(loss='categorical_crossentropy', optimizer='adam', metrics=['accuracy'])\n",
        "\n",
        "tf_model2.fit(x_clean_news_train_tf,y_train,epochs=10, verbose=2)\n",
        "\n",
        "\n"
      ],
      "outputs": [
        {
          "output_type": "stream",
          "name": "stdout",
          "text": [
            "Epoch 1/10\n"
          ]
        },
        {
          "output_type": "stream",
          "name": "stderr",
          "text": [
            "/home/zoez/.conda/envs/gpu/lib/python3.9/site-packages/tensorflow/python/framework/indexed_slices.py:447: UserWarning: Converting sparse IndexedSlices(IndexedSlices(indices=Tensor(\"gradient_tape/sequential_10/dense_24/embedding_lookup_sparse/Reshape_1:0\", shape=(None,), dtype=int32), values=Tensor(\"gradient_tape/sequential_10/dense_24/embedding_lookup_sparse/Reshape:0\", shape=(None, 64), dtype=float32), dense_shape=Tensor(\"gradient_tape/sequential_10/dense_24/embedding_lookup_sparse/Cast:0\", shape=(2,), dtype=int32))) to a dense Tensor of unknown shape. This may consume a large amount of memory.\n",
            "  warnings.warn(\n"
          ]
        },
        {
          "output_type": "stream",
          "name": "stdout",
          "text": [
            "2410/2410 - 15s - loss: 0.9080 - accuracy: 0.7261\n",
            "Epoch 2/10\n",
            "2410/2410 - 15s - loss: 0.3542 - accuracy: 0.8823\n",
            "Epoch 3/10\n",
            "2410/2410 - 14s - loss: 0.1358 - accuracy: 0.9561\n",
            "Epoch 4/10\n",
            "2410/2410 - 14s - loss: 0.0637 - accuracy: 0.9813\n",
            "Epoch 5/10\n",
            "2410/2410 - 14s - loss: 0.0401 - accuracy: 0.9890\n",
            "Epoch 6/10\n",
            "2410/2410 - 14s - loss: 0.0304 - accuracy: 0.9920\n",
            "Epoch 7/10\n",
            "2410/2410 - 14s - loss: 0.0237 - accuracy: 0.9936\n",
            "Epoch 8/10\n",
            "2410/2410 - 14s - loss: 0.0207 - accuracy: 0.9943\n",
            "Epoch 9/10\n",
            "2410/2410 - 14s - loss: 0.0171 - accuracy: 0.9947\n",
            "Epoch 10/10\n",
            "2410/2410 - 14s - loss: 0.0145 - accuracy: 0.9951\n"
          ]
        },
        {
          "output_type": "execute_result",
          "data": {
            "text/plain": [
              "<keras.callbacks.History at 0x7f38ccf50c70>"
            ]
          },
          "metadata": {},
          "execution_count": 36
        }
      ],
      "metadata": {}
    },
    {
      "cell_type": "code",
      "execution_count": 37,
      "source": [
        "print(tf_model2.summary())"
      ],
      "outputs": [
        {
          "output_type": "stream",
          "name": "stdout",
          "text": [
            "Model: \"sequential_10\"\n",
            "_________________________________________________________________\n",
            "Layer (type)                 Output Shape              Param #   \n",
            "=================================================================\n",
            "dense_24 (Dense)             (None, 64)                7278272   \n",
            "_________________________________________________________________\n",
            "dense_25 (Dense)             (None, 64)                4160      \n",
            "_________________________________________________________________\n",
            "dense_26 (Dense)             (None, 18)                1170      \n",
            "=================================================================\n",
            "Total params: 7,283,602\n",
            "Trainable params: 7,283,602\n",
            "Non-trainable params: 0\n",
            "_________________________________________________________________\n",
            "None\n"
          ]
        }
      ],
      "metadata": {}
    },
    {
      "cell_type": "code",
      "execution_count": 38,
      "source": [
        "# evaluate\n",
        "loss, acc = tf_model2.evaluate(x_clean_news_test_tf, y_test, verbose=0)\n",
        "print('Test Accuracy: %f' % (acc*100))\n",
        "\n",
        "\n",
        "predicted_tf2=tf_model2.predict(x_clean_news_test_tf)\n",
        "\n",
        "print(metrics.classification_report(np.argmax(y_test,axis=-1), np.argmax(predicted_tf2,axis=-1),target_names=None))"
      ],
      "outputs": [
        {
          "output_type": "stream",
          "name": "stdout",
          "text": [
            "Test Accuracy: 71.407533\n",
            "              precision    recall  f1-score   support\n",
            "\n",
            "           0       0.50      0.64      0.56       436\n",
            "           1       0.43      0.47      0.45       111\n",
            "           2       0.48      0.57      0.52      1064\n",
            "           3       0.71      0.68      0.69       731\n",
            "           5       0.50      0.61      0.55       417\n",
            "           6       0.06      0.06      0.06        16\n",
            "           7       0.31      0.39      0.35       587\n",
            "           9       0.60      0.48      0.54       127\n",
            "          10       0.79      0.61      0.69       278\n",
            "          11       0.72      0.70      0.71      6076\n",
            "          12       0.00      0.00      0.00         1\n",
            "          13       0.93      0.94      0.93      6090\n",
            "          14       0.41      0.40      0.40       951\n",
            "          15       0.43      0.35      0.39       227\n",
            "          16       0.51      0.39      0.44      1086\n",
            "          17       0.71      0.69      0.70       814\n",
            "\n",
            "    accuracy                           0.71     19012\n",
            "   macro avg       0.51      0.50      0.50     19012\n",
            "weighted avg       0.72      0.71      0.71     19012\n",
            "\n"
          ]
        },
        {
          "output_type": "stream",
          "name": "stderr",
          "text": [
            "/home/zoez/.conda/envs/gpu/lib/python3.9/site-packages/sklearn/metrics/_classification.py:1318: UndefinedMetricWarning: Precision and F-score are ill-defined and being set to 0.0 in labels with no predicted samples. Use `zero_division` parameter to control this behavior.\n",
            "  _warn_prf(average, modifier, msg_start, len(result))\n",
            "/home/zoez/.conda/envs/gpu/lib/python3.9/site-packages/sklearn/metrics/_classification.py:1318: UndefinedMetricWarning: Precision and F-score are ill-defined and being set to 0.0 in labels with no predicted samples. Use `zero_division` parameter to control this behavior.\n",
            "  _warn_prf(average, modifier, msg_start, len(result))\n",
            "/home/zoez/.conda/envs/gpu/lib/python3.9/site-packages/sklearn/metrics/_classification.py:1318: UndefinedMetricWarning: Precision and F-score are ill-defined and being set to 0.0 in labels with no predicted samples. Use `zero_division` parameter to control this behavior.\n",
            "  _warn_prf(average, modifier, msg_start, len(result))\n"
          ]
        }
      ],
      "metadata": {}
    },
    {
      "cell_type": "markdown",
      "source": [
        "TFIDF NN MODEL DOESN'T WORK DUE TO LACK OF MEMORY!!!"
      ],
      "metadata": {
        "id": "ZitwI84uS8pe"
      }
    },
    {
      "cell_type": "code",
      "execution_count": 18,
      "source": [
        "tfidf_model = Sequential()\n",
        "tfidf_model.add(Dense(50, input_shape=(x_clean_news_train_tfidf.shape[1],), activation='relu'))\n",
        "tfidf_model.add(Dense(18, activation='softmax'))\n",
        "# Compile model\n",
        "tfidf_model.compile(loss='categorical_crossentropy', optimizer='adam', metrics=['accuracy'])\n",
        "\n",
        "tfidf_model.fit(x_clean_news_train_tfidf.toarray(),y_train,epochs=10, verbose=2)"
      ],
      "outputs": [
        {
          "output_type": "error",
          "ename": "MemoryError",
          "evalue": "Unable to allocate 65.3 GiB for an array with shape (77100, 113722) and data type float64",
          "traceback": [
            "\u001b[0;31m---------------------------------------------------------------------------\u001b[0m",
            "\u001b[0;31mMemoryError\u001b[0m                               Traceback (most recent call last)",
            "Input \u001b[0;32mIn [18]\u001b[0m, in \u001b[0;36m<module>\u001b[0;34m\u001b[0m\n\u001b[1;32m      4\u001b[0m \u001b[38;5;66;03m# Compile model\u001b[39;00m\n\u001b[1;32m      5\u001b[0m tfidf_model\u001b[38;5;241m.\u001b[39mcompile(loss\u001b[38;5;241m=\u001b[39m\u001b[38;5;124m'\u001b[39m\u001b[38;5;124mcategorical_crossentropy\u001b[39m\u001b[38;5;124m'\u001b[39m, optimizer\u001b[38;5;241m=\u001b[39m\u001b[38;5;124m'\u001b[39m\u001b[38;5;124madam\u001b[39m\u001b[38;5;124m'\u001b[39m, metrics\u001b[38;5;241m=\u001b[39m[\u001b[38;5;124m'\u001b[39m\u001b[38;5;124maccuracy\u001b[39m\u001b[38;5;124m'\u001b[39m])\n\u001b[0;32m----> 7\u001b[0m tfidf_model\u001b[38;5;241m.\u001b[39mfit(\u001b[43mx_clean_news_train_tfidf\u001b[49m\u001b[38;5;241;43m.\u001b[39;49m\u001b[43mtoarray\u001b[49m\u001b[43m(\u001b[49m\u001b[43m)\u001b[49m,y_train,epochs\u001b[38;5;241m=\u001b[39m\u001b[38;5;241m10\u001b[39m, verbose\u001b[38;5;241m=\u001b[39m\u001b[38;5;241m2\u001b[39m)\n",
            "File \u001b[0;32m~/.conda/envs/gpu/lib/python3.9/site-packages/scipy/sparse/compressed.py:1039\u001b[0m, in \u001b[0;36m_cs_matrix.toarray\u001b[0;34m(self, order, out)\u001b[0m\n\u001b[1;32m   1037\u001b[0m \u001b[38;5;28;01mif\u001b[39;00m out \u001b[38;5;129;01mis\u001b[39;00m \u001b[38;5;28;01mNone\u001b[39;00m \u001b[38;5;129;01mand\u001b[39;00m order \u001b[38;5;129;01mis\u001b[39;00m \u001b[38;5;28;01mNone\u001b[39;00m:\n\u001b[1;32m   1038\u001b[0m     order \u001b[38;5;241m=\u001b[39m \u001b[38;5;28mself\u001b[39m\u001b[38;5;241m.\u001b[39m_swap(\u001b[38;5;124m'\u001b[39m\u001b[38;5;124mcf\u001b[39m\u001b[38;5;124m'\u001b[39m)[\u001b[38;5;241m0\u001b[39m]\n\u001b[0;32m-> 1039\u001b[0m out \u001b[38;5;241m=\u001b[39m \u001b[38;5;28;43mself\u001b[39;49m\u001b[38;5;241;43m.\u001b[39;49m\u001b[43m_process_toarray_args\u001b[49m\u001b[43m(\u001b[49m\u001b[43morder\u001b[49m\u001b[43m,\u001b[49m\u001b[43m \u001b[49m\u001b[43mout\u001b[49m\u001b[43m)\u001b[49m\n\u001b[1;32m   1040\u001b[0m \u001b[38;5;28;01mif\u001b[39;00m \u001b[38;5;129;01mnot\u001b[39;00m (out\u001b[38;5;241m.\u001b[39mflags\u001b[38;5;241m.\u001b[39mc_contiguous \u001b[38;5;129;01mor\u001b[39;00m out\u001b[38;5;241m.\u001b[39mflags\u001b[38;5;241m.\u001b[39mf_contiguous):\n\u001b[1;32m   1041\u001b[0m     \u001b[38;5;28;01mraise\u001b[39;00m \u001b[38;5;167;01mValueError\u001b[39;00m(\u001b[38;5;124m'\u001b[39m\u001b[38;5;124mOutput array must be C or F contiguous\u001b[39m\u001b[38;5;124m'\u001b[39m)\n",
            "File \u001b[0;32m~/.conda/envs/gpu/lib/python3.9/site-packages/scipy/sparse/base.py:1202\u001b[0m, in \u001b[0;36mspmatrix._process_toarray_args\u001b[0;34m(self, order, out)\u001b[0m\n\u001b[1;32m   1200\u001b[0m     \u001b[38;5;28;01mreturn\u001b[39;00m out\n\u001b[1;32m   1201\u001b[0m \u001b[38;5;28;01melse\u001b[39;00m:\n\u001b[0;32m-> 1202\u001b[0m     \u001b[38;5;28;01mreturn\u001b[39;00m \u001b[43mnp\u001b[49m\u001b[38;5;241;43m.\u001b[39;49m\u001b[43mzeros\u001b[49m\u001b[43m(\u001b[49m\u001b[38;5;28;43mself\u001b[39;49m\u001b[38;5;241;43m.\u001b[39;49m\u001b[43mshape\u001b[49m\u001b[43m,\u001b[49m\u001b[43m \u001b[49m\u001b[43mdtype\u001b[49m\u001b[38;5;241;43m=\u001b[39;49m\u001b[38;5;28;43mself\u001b[39;49m\u001b[38;5;241;43m.\u001b[39;49m\u001b[43mdtype\u001b[49m\u001b[43m,\u001b[49m\u001b[43m \u001b[49m\u001b[43morder\u001b[49m\u001b[38;5;241;43m=\u001b[39;49m\u001b[43morder\u001b[49m\u001b[43m)\u001b[49m\n",
            "\u001b[0;31mMemoryError\u001b[0m: Unable to allocate 65.3 GiB for an array with shape (77100, 113722) and data type float64"
          ]
        }
      ],
      "metadata": {
        "colab": {
          "base_uri": "https://localhost:8080/",
          "height": 411
        },
        "outputId": "49b659d4-27fc-4242-aeed-83418182ebf6",
        "id": "3bnkRB3MS8pj"
      }
    },
    {
      "cell_type": "code",
      "execution_count": null,
      "source": [
        "tfidf_model.summary()"
      ],
      "outputs": [
        {
          "output_type": "stream",
          "name": "stdout",
          "text": [
            "Model: \"sequential\"\n",
            "_________________________________________________________________\n",
            " Layer (type)                Output Shape              Param #   \n",
            "=================================================================\n",
            " dense (Dense)               (None, 50)                5686150   \n",
            "                                                                 \n",
            " dense_1 (Dense)             (None, 18)                918       \n",
            "                                                                 \n",
            "=================================================================\n",
            "Total params: 5,687,068\n",
            "Trainable params: 5,687,068\n",
            "Non-trainable params: 0\n",
            "_________________________________________________________________\n"
          ]
        }
      ],
      "metadata": {
        "colab": {
          "base_uri": "https://localhost:8080/"
        },
        "outputId": "773c9521-c25f-4790-fbe4-0d83477f978b",
        "id": "awy4EWmNS8pk"
      }
    },
    {
      "cell_type": "code",
      "execution_count": null,
      "source": [
        "# evaluate\n",
        "loss, acc = tfidf_model.evaluate(x_clean_news_test_tfidf, y_test, verbose=0)\n",
        "print('Test Accuracy: %f' % (acc*100))"
      ],
      "outputs": [],
      "metadata": {
        "colab": {
          "base_uri": "https://localhost:8080/"
        },
        "outputId": "c4ef5723-249e-4656-c357-3f08fce11d56",
        "id": "x4RmU00YS8pk"
      }
    },
    {
      "cell_type": "code",
      "execution_count": null,
      "source": [
        "predicted_tfidf=tfidf_model.predict(x_clean_news_test_tfidf)\n",
        "\n",
        "print(metrics.classification_report(np.argmax(y_test,axis=-1), np.argmax(predicted_tfidf,axis=-1),target_names=None))"
      ],
      "outputs": [],
      "metadata": {
        "colab": {
          "base_uri": "https://localhost:8080/"
        },
        "outputId": "39dc6a6d-3bab-4f08-927d-6da1abd883d7",
        "id": "92SuH9KvS8pl"
      }
    },
    {
      "cell_type": "markdown",
      "source": [
        "cnn 1d conv for fun"
      ],
      "metadata": {}
    },
    {
      "cell_type": "code",
      "execution_count": null,
      "source": [
        "cnn_model = models.Sequential()\n",
        "cnn_model.add(Conv1D(filters = 128, kernel_size = 5, activation = 'relu',input_shape=(x_clean_news_train_tf.shape[1],)))\n",
        "cnn_model.add(MaxPooling1D(pool_size = 5))\n",
        "cnn_model.add(Conv1D(filters = 128, kernel_size = 5, activation = 'relu'))\n",
        "cnn_model.add(MaxPooling1D(pool_size = 5))\n",
        "cnn_model.add(Conv1D(filters = 128, kernel_size = 5, activation = 'relu'))\n",
        "cnn_model.add(GlobalMaxPool1D())\n",
        "cnn_model.add(Dense(units = 128, activation = 'relu'))\n",
        "cnn_model.add(Dense(units = 18, activation = 'sigmoid'))\n",
        "cnn_model.summary()"
      ],
      "outputs": [
        {
          "output_type": "stream",
          "name": "stdout",
          "text": [
            "Model: \"sequential\"\n",
            "_________________________________________________________________\n",
            " Layer (type)                Output Shape              Param #   \n",
            "=================================================================\n",
            " embedding (Embedding)       (None, None, 128)         10240000  \n",
            "                                                                 \n",
            " conv1d (Conv1D)             (None, None, 128)         82048     \n",
            "                                                                 \n",
            " max_pooling1d (MaxPooling1D  (None, None, 128)        0         \n",
            " )                                                               \n",
            "                                                                 \n",
            " conv1d_1 (Conv1D)           (None, None, 128)         82048     \n",
            "                                                                 \n",
            " max_pooling1d_1 (MaxPooling  (None, None, 128)        0         \n",
            " 1D)                                                             \n",
            "                                                                 \n",
            " conv1d_2 (Conv1D)           (None, None, 128)         82048     \n",
            "                                                                 \n",
            " global_max_pooling1d (Globa  (None, 128)              0         \n",
            " lMaxPooling1D)                                                  \n",
            "                                                                 \n",
            " dense (Dense)               (None, 128)               16512     \n",
            "                                                                 \n",
            " dense_1 (Dense)             (None, 17)                2193      \n",
            "                                                                 \n",
            "=================================================================\n",
            "Total params: 10,504,849\n",
            "Trainable params: 10,504,849\n",
            "Non-trainable params: 0\n",
            "_________________________________________________________________\n"
          ]
        }
      ],
      "metadata": {
        "colab": {
          "base_uri": "https://localhost:8080/"
        },
        "id": "JqgQMIPriQml",
        "outputId": "555d601b-665d-41e1-a5b3-21525453a3d3"
      }
    }
  ]
}
