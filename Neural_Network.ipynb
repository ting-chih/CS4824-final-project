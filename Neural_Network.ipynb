{
  "cells": [
    {
      "cell_type": "markdown",
      "metadata": {
        "id": "1VFjy0KJks1-"
      },
      "source": [
        "Load library"
      ]
    },
    {
      "cell_type": "code",
      "execution_count": 1,
      "metadata": {
        "colab": {
          "base_uri": "https://localhost:8080/"
        },
        "id": "sWZ8h7FkWQid",
        "outputId": "e8ceb7e2-b16d-45b6-c155-83d552af501a"
      },
      "outputs": [
        {
          "name": "stderr",
          "output_type": "stream",
          "text": [
            "[nltk_data] Downloading package wordnet to /home/zoez/nltk_data...\n",
            "[nltk_data]   Package wordnet is already up-to-date!\n",
            "[nltk_data] Downloading package stopwords to /home/zoez/nltk_data...\n",
            "[nltk_data]   Package stopwords is already up-to-date!\n"
          ]
        }
      ],
      "source": [
        "from clean import data_preprocessing\n",
        "import numpy as np\n",
        "import pandas as pd\n",
        "\n",
        "from keras.wrappers.scikit_learn import KerasClassifier\n",
        "from keras.utils import np_utils\n",
        "import tensorflow as tf\n",
        "from tensorflow.keras import layers, models\n",
        "from tensorflow.keras.models import Sequential\n",
        "from tensorflow.keras.wrappers.scikit_learn import KerasClassifier\n",
        "from tensorflow.keras.layers import Conv1D, Conv2D, MaxPooling1D,GlobalMaxPool1D, MaxPool2D, Dense, Activation, Embedding, Input\n",
        "from tensorflow.keras.layers import ReLU, Flatten\n",
        "from tensorflow.keras.utils import to_categorical\n",
        "\n",
        "from sklearn.model_selection import train_test_split\n",
        "from sklearn.model_selection import cross_val_score\n",
        "from sklearn.model_selection import KFold\n",
        "from sklearn.preprocessing import LabelEncoder\n",
        "from sklearn.pipeline import Pipeline\n"
      ]
    },
    {
      "cell_type": "code",
      "execution_count": 2,
      "metadata": {
        "id": "WIk52ahQhLzT"
      },
      "outputs": [],
      "source": [
        "from sklearn.feature_extraction.text import CountVectorizer \n",
        "from sklearn.feature_extraction.text import TfidfVectorizer"
      ]
    },
    {
      "cell_type": "markdown",
      "metadata": {
        "id": "PCJi934ykypW"
      },
      "source": [
        "Read datasets"
      ]
    },
    {
      "cell_type": "code",
      "execution_count": 3,
      "metadata": {
        "colab": {
          "base_uri": "https://localhost:8080/",
          "height": 355
        },
        "id": "el6XX5BfW2ae",
        "outputId": "fdd0b482-9257-499a-dc38-d3b8f6e1093e"
      },
      "outputs": [
        {
          "name": "stdout",
          "output_type": "stream",
          "text": [
            "Length of the training dataset  77100\n"
          ]
        },
        {
          "data": {
            "text/html": [
              "<div>\n",
              "<style scoped>\n",
              "    .dataframe tbody tr th:only-of-type {\n",
              "        vertical-align: middle;\n",
              "    }\n",
              "\n",
              "    .dataframe tbody tr th {\n",
              "        vertical-align: top;\n",
              "    }\n",
              "\n",
              "    .dataframe thead th {\n",
              "        text-align: right;\n",
              "    }\n",
              "</style>\n",
              "<table border=\"1\" class=\"dataframe\">\n",
              "  <thead>\n",
              "    <tr style=\"text-align: right;\">\n",
              "      <th></th>\n",
              "      <th>NewID</th>\n",
              "      <th>Category</th>\n",
              "      <th>Title</th>\n",
              "      <th>Abstract</th>\n",
              "      <th>News</th>\n",
              "    </tr>\n",
              "  </thead>\n",
              "  <tbody>\n",
              "    <tr>\n",
              "      <th>0</th>\n",
              "      <td>N88753</td>\n",
              "      <td>lifestyle</td>\n",
              "      <td>The Brands Queen Elizabeth, Prince Charles, an...</td>\n",
              "      <td>Shop the notebooks, jackets, and more that the...</td>\n",
              "      <td>The Brands Queen Elizabeth, Prince Charles, an...</td>\n",
              "    </tr>\n",
              "    <tr>\n",
              "      <th>1</th>\n",
              "      <td>N45436</td>\n",
              "      <td>news</td>\n",
              "      <td>Walmart Slashes Prices on Last-Generation iPads</td>\n",
              "      <td>Apple's new iPad releases bring big deals on l...</td>\n",
              "      <td>Walmart Slashes Prices on Last-Generation iPad...</td>\n",
              "    </tr>\n",
              "    <tr>\n",
              "      <th>2</th>\n",
              "      <td>N23144</td>\n",
              "      <td>health</td>\n",
              "      <td>50 Worst Habits For Belly Fat</td>\n",
              "      <td>These seemingly harmless habits are holding yo...</td>\n",
              "      <td>50 Worst Habits For Belly Fat These seemingly ...</td>\n",
              "    </tr>\n",
              "    <tr>\n",
              "      <th>4</th>\n",
              "      <td>N93187</td>\n",
              "      <td>news</td>\n",
              "      <td>The Cost of Trump's Aid Freeze in the Trenches...</td>\n",
              "      <td>Lt. Ivan Molchanets peeked over a parapet of s...</td>\n",
              "      <td>The Cost of Trump's Aid Freeze in the Trenches...</td>\n",
              "    </tr>\n",
              "    <tr>\n",
              "      <th>5</th>\n",
              "      <td>N75236</td>\n",
              "      <td>health</td>\n",
              "      <td>I Was An NBA Wife. Here's How It Affected My M...</td>\n",
              "      <td>I felt like I was a fraud, and being an NBA wi...</td>\n",
              "      <td>I Was An NBA Wife. Here's How It Affected My M...</td>\n",
              "    </tr>\n",
              "  </tbody>\n",
              "</table>\n",
              "</div>"
            ],
            "text/plain": [
              "    NewID   Category                                              Title  \\\n",
              "0  N88753  lifestyle  The Brands Queen Elizabeth, Prince Charles, an...   \n",
              "1  N45436       news    Walmart Slashes Prices on Last-Generation iPads   \n",
              "2  N23144     health                      50 Worst Habits For Belly Fat   \n",
              "4  N93187       news  The Cost of Trump's Aid Freeze in the Trenches...   \n",
              "5  N75236     health  I Was An NBA Wife. Here's How It Affected My M...   \n",
              "\n",
              "                                            Abstract  \\\n",
              "0  Shop the notebooks, jackets, and more that the...   \n",
              "1  Apple's new iPad releases bring big deals on l...   \n",
              "2  These seemingly harmless habits are holding yo...   \n",
              "4  Lt. Ivan Molchanets peeked over a parapet of s...   \n",
              "5  I felt like I was a fraud, and being an NBA wi...   \n",
              "\n",
              "                                                News  \n",
              "0  The Brands Queen Elizabeth, Prince Charles, an...  \n",
              "1  Walmart Slashes Prices on Last-Generation iPad...  \n",
              "2  50 Worst Habits For Belly Fat These seemingly ...  \n",
              "4  The Cost of Trump's Aid Freeze in the Trenches...  \n",
              "5  I Was An NBA Wife. Here's How It Affected My M...  "
            ]
          },
          "execution_count": 3,
          "metadata": {},
          "output_type": "execute_result"
        }
      ],
      "source": [
        "df = pd.read_csv('train.csv', index_col=0)\n",
        "test = pd.read_csv('test.csv', index_col=0)\n",
        "# Combine the features Title and Abstract into one\n",
        "df['News'] = df['Title'].str.cat(df['Abstract'],sep=\" \")\n",
        "test['News'] = test['Title'].str.cat(test['Abstract'],sep=\" \")\n",
        "# Drop all rows that contain NaN under those columns\n",
        "df.dropna(subset = [\"News\"], inplace=True)\n",
        "test.dropna(subset = [\"News\"], inplace=True)\n",
        "print('Length of the training dataset ', len(df))\n",
        "df.head()\n"
      ]
    },
    {
      "cell_type": "code",
      "execution_count": 4,
      "metadata": {
        "colab": {
          "base_uri": "https://localhost:8080/",
          "height": 337
        },
        "id": "k2GWOTINafue",
        "outputId": "d5535735-52b5-44d0-ad55-d58363a9eca3"
      },
      "outputs": [
        {
          "data": {
            "text/html": [
              "<div>\n",
              "<style scoped>\n",
              "    .dataframe tbody tr th:only-of-type {\n",
              "        vertical-align: middle;\n",
              "    }\n",
              "\n",
              "    .dataframe tbody tr th {\n",
              "        vertical-align: top;\n",
              "    }\n",
              "\n",
              "    .dataframe thead th {\n",
              "        text-align: right;\n",
              "    }\n",
              "</style>\n",
              "<table border=\"1\" class=\"dataframe\">\n",
              "  <thead>\n",
              "    <tr style=\"text-align: right;\">\n",
              "      <th></th>\n",
              "      <th>NewID</th>\n",
              "      <th>Category</th>\n",
              "      <th>Title</th>\n",
              "      <th>Abstract</th>\n",
              "      <th>News</th>\n",
              "      <th>clean-News</th>\n",
              "    </tr>\n",
              "  </thead>\n",
              "  <tbody>\n",
              "    <tr>\n",
              "      <th>0</th>\n",
              "      <td>N88753</td>\n",
              "      <td>lifestyle</td>\n",
              "      <td>The Brands Queen Elizabeth, Prince Charles, an...</td>\n",
              "      <td>Shop the notebooks, jackets, and more that the...</td>\n",
              "      <td>The Brands Queen Elizabeth, Prince Charles, an...</td>\n",
              "      <td>brand queen elizabeth prince charles prince ph...</td>\n",
              "    </tr>\n",
              "    <tr>\n",
              "      <th>1</th>\n",
              "      <td>N45436</td>\n",
              "      <td>news</td>\n",
              "      <td>Walmart Slashes Prices on Last-Generation iPads</td>\n",
              "      <td>Apple's new iPad releases bring big deals on l...</td>\n",
              "      <td>Walmart Slashes Prices on Last-Generation iPad...</td>\n",
              "      <td>walmart slash price last generation ipads appl...</td>\n",
              "    </tr>\n",
              "    <tr>\n",
              "      <th>2</th>\n",
              "      <td>N23144</td>\n",
              "      <td>health</td>\n",
              "      <td>50 Worst Habits For Belly Fat</td>\n",
              "      <td>These seemingly harmless habits are holding yo...</td>\n",
              "      <td>50 Worst Habits For Belly Fat These seemingly ...</td>\n",
              "      <td>worst habit belly fat seemingly harmless habi...</td>\n",
              "    </tr>\n",
              "    <tr>\n",
              "      <th>4</th>\n",
              "      <td>N93187</td>\n",
              "      <td>news</td>\n",
              "      <td>The Cost of Trump's Aid Freeze in the Trenches...</td>\n",
              "      <td>Lt. Ivan Molchanets peeked over a parapet of s...</td>\n",
              "      <td>The Cost of Trump's Aid Freeze in the Trenches...</td>\n",
              "      <td>cost trumpaid freeze trench ukrainewar lt ivan...</td>\n",
              "    </tr>\n",
              "    <tr>\n",
              "      <th>5</th>\n",
              "      <td>N75236</td>\n",
              "      <td>health</td>\n",
              "      <td>I Was An NBA Wife. Here's How It Affected My M...</td>\n",
              "      <td>I felt like I was a fraud, and being an NBA wi...</td>\n",
              "      <td>I Was An NBA Wife. Here's How It Affected My M...</td>\n",
              "      <td>nba wife hereaffect mental health felt like fr...</td>\n",
              "    </tr>\n",
              "  </tbody>\n",
              "</table>\n",
              "</div>"
            ],
            "text/plain": [
              "    NewID   Category                                              Title  \\\n",
              "0  N88753  lifestyle  The Brands Queen Elizabeth, Prince Charles, an...   \n",
              "1  N45436       news    Walmart Slashes Prices on Last-Generation iPads   \n",
              "2  N23144     health                      50 Worst Habits For Belly Fat   \n",
              "4  N93187       news  The Cost of Trump's Aid Freeze in the Trenches...   \n",
              "5  N75236     health  I Was An NBA Wife. Here's How It Affected My M...   \n",
              "\n",
              "                                            Abstract  \\\n",
              "0  Shop the notebooks, jackets, and more that the...   \n",
              "1  Apple's new iPad releases bring big deals on l...   \n",
              "2  These seemingly harmless habits are holding yo...   \n",
              "4  Lt. Ivan Molchanets peeked over a parapet of s...   \n",
              "5  I felt like I was a fraud, and being an NBA wi...   \n",
              "\n",
              "                                                News  \\\n",
              "0  The Brands Queen Elizabeth, Prince Charles, an...   \n",
              "1  Walmart Slashes Prices on Last-Generation iPad...   \n",
              "2  50 Worst Habits For Belly Fat These seemingly ...   \n",
              "4  The Cost of Trump's Aid Freeze in the Trenches...   \n",
              "5  I Was An NBA Wife. Here's How It Affected My M...   \n",
              "\n",
              "                                          clean-News  \n",
              "0  brand queen elizabeth prince charles prince ph...  \n",
              "1  walmart slash price last generation ipads appl...  \n",
              "2   worst habit belly fat seemingly harmless habi...  \n",
              "4  cost trumpaid freeze trench ukrainewar lt ivan...  \n",
              "5  nba wife hereaffect mental health felt like fr...  "
            ]
          },
          "execution_count": 4,
          "metadata": {},
          "output_type": "execute_result"
        }
      ],
      "source": [
        "df['clean-News'] = [data_preprocessing(line) for line in df['News']]\n",
        "test['clean-News'] = [data_preprocessing(line) for line in test['News']]\n",
        "df.head()"
      ]
    },
    {
      "cell_type": "code",
      "execution_count": 5,
      "metadata": {
        "colab": {
          "base_uri": "https://localhost:8080/"
        },
        "id": "gsrNXiLsgh9E",
        "outputId": "cc5e1aeb-46d4-481e-aaca-9c1eb8b54cc9"
      },
      "outputs": [
        {
          "name": "stdout",
          "output_type": "stream",
          "text": [
            "(77100, 113722)\n",
            "(77100, 113722)\n"
          ]
        }
      ],
      "source": [
        "x_clean_news_train = df['clean-News'].values\n",
        "x_clean_news_test = test['clean-News'].values\n",
        "x_fit=np.concatenate((x_clean_news_train,x_clean_news_test))\n",
        "\n",
        "clean_news_vectorize = CountVectorizer()\n",
        "clean_news_vectorize.fit(x_fit)\n",
        "#tf train matrix\n",
        "x_clean_news_train_tf = clean_news_vectorize.transform(x_clean_news_train)\n",
        "print(x_clean_news_train_tf.shape)\n",
        "\n",
        "tfidf_transformer = TfidfVectorizer()\n",
        "tfidf_transformer.fit(x_fit)\n",
        "#tf-idf train matrix\n",
        "x_clean_news_train_tfidf = tfidf_transformer.transform(x_clean_news_train)\n",
        "print(x_clean_news_train_tfidf.shape)\n"
      ]
    },
    {
      "cell_type": "code",
      "execution_count": 6,
      "metadata": {
        "colab": {
          "base_uri": "https://localhost:8080/"
        },
        "id": "0ZOIW-gamSB2",
        "outputId": "817f5cf0-5f61-4a6b-cc23-1d372b56d5ae"
      },
      "outputs": [
        {
          "name": "stdout",
          "output_type": "stream",
          "text": [
            "(19012, 113722)\n",
            "(19012, 113722)\n"
          ]
        }
      ],
      "source": [
        "#tf test matrix\n",
        "x_clean_news_test_tf = clean_news_vectorize.transform(x_clean_news_test)\n",
        "print(x_clean_news_test_tf.shape)\n",
        "\n",
        "#tf-idf test matrix\n",
        "x_clean_news_test_tfidf = tfidf_transformer.transform(x_clean_news_test)\n",
        "print(x_clean_news_test_tfidf.shape)\n"
      ]
    },
    {
      "cell_type": "code",
      "execution_count": 7,
      "metadata": {
        "colab": {
          "base_uri": "https://localhost:8080/"
        },
        "id": "ErcvRuDKo6Sf",
        "outputId": "3a357e80-1f5d-4a5c-c66b-47b951e8105f"
      },
      "outputs": [
        {
          "name": "stdout",
          "output_type": "stream",
          "text": [
            "(77100, 18)\n"
          ]
        }
      ],
      "source": [
        "y_train = df['Category'].values\n",
        "y_test = test['Category'].values\n",
        "y_fit=np.concatenate((y_train,y_test))\n",
        "encoder = LabelEncoder()\n",
        "encoder.fit(y_fit)\n",
        "\n",
        "encoded_Y = encoder.transform(y_train)\n",
        "y_train = to_categorical(encoded_Y)\n",
        "print(y_train.shape)"
      ]
    },
    {
      "cell_type": "code",
      "execution_count": 8,
      "metadata": {
        "colab": {
          "base_uri": "https://localhost:8080/"
        },
        "id": "mpKgYPO-oO57",
        "outputId": "ee4bb98c-a0b8-4b64-b885-ac886e2333f4"
      },
      "outputs": [
        {
          "name": "stdout",
          "output_type": "stream",
          "text": [
            "(19012, 18)\n"
          ]
        }
      ],
      "source": [
        "encoded_Y_test = encoder.transform(y_test)\n",
        "y_test = to_categorical(encoded_Y_test)\n",
        "print(y_test.shape)"
      ]
    },
    {
      "cell_type": "markdown",
      "metadata": {
        "id": "Wd1l0nc1KLk9"
      },
      "source": [
        "fully connected dence neural network\n",
        "\n",
        "50 nodes -- 72%\n",
        "\n",
        "128 nodes -- 73%\n",
        "\n",
        "256 nodes -- 73%"
      ]
    },
    {
      "cell_type": "code",
      "execution_count": 9,
      "metadata": {
        "colab": {
          "base_uri": "https://localhost:8080/"
        },
        "id": "LJDrDF81lvZf",
        "outputId": "45d3bb34-c60f-422c-a917-0225a2fd72ec"
      },
      "outputs": [
        {
          "name": "stderr",
          "output_type": "stream",
          "text": [
            "2022-04-25 21:18:19.937095: I tensorflow/stream_executor/cuda/cuda_gpu_executor.cc:937] successful NUMA node read from SysFS had negative value (-1), but there must be at least one NUMA node, so returning NUMA node zero\n",
            "2022-04-25 21:18:20.002148: I tensorflow/stream_executor/cuda/cuda_gpu_executor.cc:937] successful NUMA node read from SysFS had negative value (-1), but there must be at least one NUMA node, so returning NUMA node zero\n",
            "2022-04-25 21:18:20.003751: I tensorflow/stream_executor/cuda/cuda_gpu_executor.cc:937] successful NUMA node read from SysFS had negative value (-1), but there must be at least one NUMA node, so returning NUMA node zero\n",
            "2022-04-25 21:18:20.008209: I tensorflow/core/platform/cpu_feature_guard.cc:142] This TensorFlow binary is optimized with oneAPI Deep Neural Network Library (oneDNN) to use the following CPU instructions in performance-critical operations:  SSE4.1 SSE4.2 AVX AVX2 AVX512F FMA\n",
            "To enable them in other operations, rebuild TensorFlow with the appropriate compiler flags.\n",
            "2022-04-25 21:18:20.010161: I tensorflow/stream_executor/cuda/cuda_gpu_executor.cc:937] successful NUMA node read from SysFS had negative value (-1), but there must be at least one NUMA node, so returning NUMA node zero\n",
            "2022-04-25 21:18:20.011444: I tensorflow/stream_executor/cuda/cuda_gpu_executor.cc:937] successful NUMA node read from SysFS had negative value (-1), but there must be at least one NUMA node, so returning NUMA node zero\n",
            "2022-04-25 21:18:20.012572: I tensorflow/stream_executor/cuda/cuda_gpu_executor.cc:937] successful NUMA node read from SysFS had negative value (-1), but there must be at least one NUMA node, so returning NUMA node zero\n",
            "2022-04-25 21:18:21.773615: I tensorflow/stream_executor/cuda/cuda_gpu_executor.cc:937] successful NUMA node read from SysFS had negative value (-1), but there must be at least one NUMA node, so returning NUMA node zero\n",
            "2022-04-25 21:18:21.774938: I tensorflow/stream_executor/cuda/cuda_gpu_executor.cc:937] successful NUMA node read from SysFS had negative value (-1), but there must be at least one NUMA node, so returning NUMA node zero\n",
            "2022-04-25 21:18:21.775800: I tensorflow/stream_executor/cuda/cuda_gpu_executor.cc:937] successful NUMA node read from SysFS had negative value (-1), but there must be at least one NUMA node, so returning NUMA node zero\n",
            "2022-04-25 21:18:21.776564: I tensorflow/core/common_runtime/gpu/gpu_device.cc:1510] Created device /job:localhost/replica:0/task:0/device:GPU:0 with 10678 MB memory:  -> device: 0, name: GRID P40-12Q, pci bus id: 0000:00:0a.0, compute capability: 6.1\n"
          ]
        },
        {
          "name": "stdout",
          "output_type": "stream",
          "text": [
            "Epoch 1/10\n"
          ]
        },
        {
          "name": "stderr",
          "output_type": "stream",
          "text": [
            "/home/zoez/.conda/envs/gpu/lib/python3.9/site-packages/tensorflow/python/framework/indexed_slices.py:447: UserWarning: Converting sparse IndexedSlices(IndexedSlices(indices=Tensor(\"gradient_tape/sequential/dense/embedding_lookup_sparse/Reshape_1:0\", shape=(None,), dtype=int32), values=Tensor(\"gradient_tape/sequential/dense/embedding_lookup_sparse/Reshape:0\", shape=(None, 128), dtype=float32), dense_shape=Tensor(\"gradient_tape/sequential/dense/embedding_lookup_sparse/Cast:0\", shape=(2,), dtype=int32))) to a dense Tensor of unknown shape. This may consume a large amount of memory.\n",
            "  warnings.warn(\n",
            "2022-04-25 21:18:23.733180: I tensorflow/compiler/mlir/mlir_graph_optimization_pass.cc:185] None of the MLIR Optimization Passes are enabled (registered 2)\n"
          ]
        },
        {
          "name": "stdout",
          "output_type": "stream",
          "text": [
            "2410/2410 - 22s - loss: 0.8912 - accuracy: 0.7333\n",
            "Epoch 2/10\n",
            "2410/2410 - 21s - loss: 0.3243 - accuracy: 0.8939\n",
            "Epoch 3/10\n",
            "2410/2410 - 21s - loss: 0.1215 - accuracy: 0.9636\n",
            "Epoch 4/10\n",
            "2410/2410 - 21s - loss: 0.0566 - accuracy: 0.9849\n",
            "Epoch 5/10\n",
            "2410/2410 - 21s - loss: 0.0383 - accuracy: 0.9914\n",
            "Epoch 6/10\n",
            "2410/2410 - 21s - loss: 0.0298 - accuracy: 0.9936\n",
            "Epoch 7/10\n",
            "2410/2410 - 21s - loss: 0.0253 - accuracy: 0.9944\n",
            "Epoch 8/10\n",
            "2410/2410 - 21s - loss: 0.0222 - accuracy: 0.9953\n",
            "Epoch 9/10\n",
            "2410/2410 - 21s - loss: 0.0206 - accuracy: 0.9953\n",
            "Epoch 10/10\n",
            "2410/2410 - 21s - loss: 0.0181 - accuracy: 0.9956\n"
          ]
        },
        {
          "data": {
            "text/plain": [
              "<keras.callbacks.History at 0x7efb6a1426d0>"
            ]
          },
          "execution_count": 9,
          "metadata": {},
          "output_type": "execute_result"
        }
      ],
      "source": [
        "tf_model = Sequential()\n",
        "tf_model.add(Dense(128, input_shape=(x_clean_news_train_tf.shape[1],), activation='relu'))\n",
        "tf_model.add(Dense(18, activation='softmax'))\n",
        "# Compile model\n",
        "tf_model.compile(loss='categorical_crossentropy', optimizer='adam', metrics=['accuracy'])\n",
        "\n",
        "tf_model.fit(x_clean_news_train_tf,y_train, epochs=10, verbose=2)"
      ]
    },
    {
      "cell_type": "code",
      "execution_count": 10,
      "metadata": {
        "colab": {
          "base_uri": "https://localhost:8080/"
        },
        "id": "HbHFISSSlglp",
        "outputId": "773c9521-c25f-4790-fbe4-0d83477f978b"
      },
      "outputs": [
        {
          "name": "stdout",
          "output_type": "stream",
          "text": [
            "Model: \"sequential\"\n",
            "_________________________________________________________________\n",
            "Layer (type)                 Output Shape              Param #   \n",
            "=================================================================\n",
            "dense (Dense)                (None, 128)               14556544  \n",
            "_________________________________________________________________\n",
            "dense_1 (Dense)              (None, 18)                2322      \n",
            "=================================================================\n",
            "Total params: 14,558,866\n",
            "Trainable params: 14,558,866\n",
            "Non-trainable params: 0\n",
            "_________________________________________________________________\n"
          ]
        }
      ],
      "source": [
        "tf_model.summary()"
      ]
    },
    {
      "cell_type": "code",
      "execution_count": 11,
      "metadata": {
        "colab": {
          "base_uri": "https://localhost:8080/"
        },
        "id": "MuhA6hc-tpIi",
        "outputId": "c4ef5723-249e-4656-c357-3f08fce11d56"
      },
      "outputs": [
        {
          "name": "stdout",
          "output_type": "stream",
          "text": [
            "Test Accuracy: 73.379970\n"
          ]
        }
      ],
      "source": [
        "# evaluate\n",
        "loss, acc = tf_model.evaluate(x_clean_news_test_tf, y_test, verbose=0)\n",
        "print('Test Accuracy: %f' % (acc*100))"
      ]
    },
    {
      "cell_type": "code",
      "execution_count": 12,
      "metadata": {
        "colab": {
          "base_uri": "https://localhost:8080/"
        },
        "id": "KOm2wolQ_m36",
        "outputId": "39dc6a6d-3bab-4f08-927d-6da1abd883d7"
      },
      "outputs": [
        {
          "name": "stdout",
          "output_type": "stream",
          "text": [
            "              precision    recall  f1-score   support\n",
            "\n",
            "           0       0.57      0.56      0.56       436\n",
            "           1       0.53      0.38      0.44       111\n",
            "           2       0.56      0.53      0.54      1064\n",
            "           3       0.68      0.76      0.72       731\n",
            "           5       0.65      0.49      0.56       417\n",
            "           6       0.00      0.00      0.00        16\n",
            "           7       0.35      0.35      0.35       587\n",
            "           9       0.65      0.47      0.55       127\n",
            "          10       0.78      0.63      0.70       278\n",
            "          11       0.69      0.79      0.74      6076\n",
            "          12       0.00      0.00      0.00         1\n",
            "          13       0.94      0.94      0.94      6090\n",
            "          14       0.47      0.38      0.42       951\n",
            "          15       0.52      0.34      0.41       227\n",
            "          16       0.50      0.34      0.40      1086\n",
            "          17       0.77      0.67      0.72       814\n",
            "\n",
            "    accuracy                           0.73     19012\n",
            "   macro avg       0.54      0.48      0.50     19012\n",
            "weighted avg       0.73      0.73      0.73     19012\n",
            "\n"
          ]
        },
        {
          "name": "stderr",
          "output_type": "stream",
          "text": [
            "/home/zoez/.conda/envs/gpu/lib/python3.9/site-packages/sklearn/metrics/_classification.py:1318: UndefinedMetricWarning: Precision and F-score are ill-defined and being set to 0.0 in labels with no predicted samples. Use `zero_division` parameter to control this behavior.\n",
            "  _warn_prf(average, modifier, msg_start, len(result))\n",
            "/home/zoez/.conda/envs/gpu/lib/python3.9/site-packages/sklearn/metrics/_classification.py:1318: UndefinedMetricWarning: Precision and F-score are ill-defined and being set to 0.0 in labels with no predicted samples. Use `zero_division` parameter to control this behavior.\n",
            "  _warn_prf(average, modifier, msg_start, len(result))\n",
            "/home/zoez/.conda/envs/gpu/lib/python3.9/site-packages/sklearn/metrics/_classification.py:1318: UndefinedMetricWarning: Precision and F-score are ill-defined and being set to 0.0 in labels with no predicted samples. Use `zero_division` parameter to control this behavior.\n",
            "  _warn_prf(average, modifier, msg_start, len(result))\n"
          ]
        }
      ],
      "source": [
        "from sklearn import metrics\n",
        "from sklearn.metrics import multilabel_confusion_matrix, confusion_matrix\n",
        "\n",
        "predicted_tf=tf_model.predict(x_clean_news_test_tf)\n",
        "\n",
        "print(metrics.classification_report(np.argmax(y_test,axis=-1), np.argmax(predicted_tf,axis=-1),target_names=None))"
      ]
    },
    {
      "cell_type": "code",
      "execution_count": 25,
      "metadata": {},
      "outputs": [
        {
          "name": "stdout",
          "output_type": "stream",
          "text": [
            "['sports' 'news' 'sports' ... 'sports' 'finance' 'sports']\n"
          ]
        },
        {
          "data": {
            "image/png": "[encoded data removed]",
            "text/plain": [
              "<Figure size 720x720 with 2 Axes>"
            ]
          },
          "metadata": {
            "needs_background": "light"
          },
          "output_type": "display_data"
        }
      ],
      "source": [
        "#label=np.unique(y_fit)\n",
        "label=np.unique(encoder.inverse_transform(encoded_Y_test))\n",
        "#test['Category'].unique()\n",
        "print(encoder.inverse_transform(encoded_Y_test))\n",
        "import matplotlib.pyplot as plt\n",
        "#import product\n",
        "import seaborn as sns\n",
        "\n",
        "c_m = confusion_matrix(np.argmax(y_test,axis=-1), np.argmax(predicted_tf,axis=-1),labels=np.unique(encoded_Y_test))\n",
        "\n",
        "#Plot the confusion matrix\n",
        "plt.figure(figsize=(10,10))\n",
        "sns.heatmap(pd.DataFrame(c_m, label, label), annot=True, fmt='d', cmap='viridis')\n",
        "plt.title('Confusion Matrix for Title and Abstract Testing')\n",
        "plt.ylabel('Actal')\n",
        "plt.xlabel('Predicted')\n",
        "plt.show()"
      ]
    },
    {
      "cell_type": "markdown",
      "metadata": {},
      "source": [
        "fully connected dence neural network with 2 dense layers"
      ]
    },
    {
      "cell_type": "code",
      "execution_count": 36,
      "metadata": {},
      "outputs": [
        {
          "name": "stdout",
          "output_type": "stream",
          "text": [
            "Epoch 1/10\n"
          ]
        },
        {
          "name": "stderr",
          "output_type": "stream",
          "text": [
            "/home/zoez/.conda/envs/gpu/lib/python3.9/site-packages/tensorflow/python/framework/indexed_slices.py:447: UserWarning: Converting sparse IndexedSlices(IndexedSlices(indices=Tensor(\"gradient_tape/sequential_10/dense_24/embedding_lookup_sparse/Reshape_1:0\", shape=(None,), dtype=int32), values=Tensor(\"gradient_tape/sequential_10/dense_24/embedding_lookup_sparse/Reshape:0\", shape=(None, 64), dtype=float32), dense_shape=Tensor(\"gradient_tape/sequential_10/dense_24/embedding_lookup_sparse/Cast:0\", shape=(2,), dtype=int32))) to a dense Tensor of unknown shape. This may consume a large amount of memory.\n",
            "  warnings.warn(\n"
          ]
        },
        {
          "name": "stdout",
          "output_type": "stream",
          "text": [
            "2410/2410 - 15s - loss: 0.9080 - accuracy: 0.7261\n",
            "Epoch 2/10\n",
            "2410/2410 - 15s - loss: 0.3542 - accuracy: 0.8823\n",
            "Epoch 3/10\n",
            "2410/2410 - 14s - loss: 0.1358 - accuracy: 0.9561\n",
            "Epoch 4/10\n",
            "2410/2410 - 14s - loss: 0.0637 - accuracy: 0.9813\n",
            "Epoch 5/10\n",
            "2410/2410 - 14s - loss: 0.0401 - accuracy: 0.9890\n",
            "Epoch 6/10\n",
            "2410/2410 - 14s - loss: 0.0304 - accuracy: 0.9920\n",
            "Epoch 7/10\n",
            "2410/2410 - 14s - loss: 0.0237 - accuracy: 0.9936\n",
            "Epoch 8/10\n",
            "2410/2410 - 14s - loss: 0.0207 - accuracy: 0.9943\n",
            "Epoch 9/10\n",
            "2410/2410 - 14s - loss: 0.0171 - accuracy: 0.9947\n",
            "Epoch 10/10\n",
            "2410/2410 - 14s - loss: 0.0145 - accuracy: 0.9951\n"
          ]
        },
        {
          "data": {
            "text/plain": [
              "<keras.callbacks.History at 0x7f38ccf50c70>"
            ]
          },
          "execution_count": 36,
          "metadata": {},
          "output_type": "execute_result"
        }
      ],
      "source": [
        "tf_model2 = Sequential()\n",
        "tf_model2.add(Dense(64, input_shape=(x_clean_news_train_tf.shape[1],), activation='relu'))\n",
        "tf_model2.add(Dense(64, activation='relu'))\n",
        "tf_model2.add(Dense(18, activation='softmax'))\n",
        "# Compile model\n",
        "tf_model2.compile(loss='categorical_crossentropy', optimizer='adam', metrics=['accuracy'])\n",
        "\n",
        "tf_model2.fit(x_clean_news_train_tf,y_train,epochs=10, verbose=2)\n",
        "\n",
        "\n"
      ]
    },
    {
      "cell_type": "code",
      "execution_count": 37,
      "metadata": {},
      "outputs": [
        {
          "name": "stdout",
          "output_type": "stream",
          "text": [
            "Model: \"sequential_10\"\n",
            "_________________________________________________________________\n",
            "Layer (type)                 Output Shape              Param #   \n",
            "=================================================================\n",
            "dense_24 (Dense)             (None, 64)                7278272   \n",
            "_________________________________________________________________\n",
            "dense_25 (Dense)             (None, 64)                4160      \n",
            "_________________________________________________________________\n",
            "dense_26 (Dense)             (None, 18)                1170      \n",
            "=================================================================\n",
            "Total params: 7,283,602\n",
            "Trainable params: 7,283,602\n",
            "Non-trainable params: 0\n",
            "_________________________________________________________________\n",
            "None\n"
          ]
        }
      ],
      "source": [
        "print(tf_model2.summary())"
      ]
    },
    {
      "cell_type": "code",
      "execution_count": 38,
      "metadata": {},
      "outputs": [
        {
          "name": "stdout",
          "output_type": "stream",
          "text": [
            "Test Accuracy: 71.407533\n",
            "              precision    recall  f1-score   support\n",
            "\n",
            "           0       0.50      0.64      0.56       436\n",
            "           1       0.43      0.47      0.45       111\n",
            "           2       0.48      0.57      0.52      1064\n",
            "           3       0.71      0.68      0.69       731\n",
            "           5       0.50      0.61      0.55       417\n",
            "           6       0.06      0.06      0.06        16\n",
            "           7       0.31      0.39      0.35       587\n",
            "           9       0.60      0.48      0.54       127\n",
            "          10       0.79      0.61      0.69       278\n",
            "          11       0.72      0.70      0.71      6076\n",
            "          12       0.00      0.00      0.00         1\n",
            "          13       0.93      0.94      0.93      6090\n",
            "          14       0.41      0.40      0.40       951\n",
            "          15       0.43      0.35      0.39       227\n",
            "          16       0.51      0.39      0.44      1086\n",
            "          17       0.71      0.69      0.70       814\n",
            "\n",
            "    accuracy                           0.71     19012\n",
            "   macro avg       0.51      0.50      0.50     19012\n",
            "weighted avg       0.72      0.71      0.71     19012\n",
            "\n"
          ]
        },
        {
          "name": "stderr",
          "output_type": "stream",
          "text": [
            "/home/zoez/.conda/envs/gpu/lib/python3.9/site-packages/sklearn/metrics/_classification.py:1318: UndefinedMetricWarning: Precision and F-score are ill-defined and being set to 0.0 in labels with no predicted samples. Use `zero_division` parameter to control this behavior.\n",
            "  _warn_prf(average, modifier, msg_start, len(result))\n",
            "/home/zoez/.conda/envs/gpu/lib/python3.9/site-packages/sklearn/metrics/_classification.py:1318: UndefinedMetricWarning: Precision and F-score are ill-defined and being set to 0.0 in labels with no predicted samples. Use `zero_division` parameter to control this behavior.\n",
            "  _warn_prf(average, modifier, msg_start, len(result))\n",
            "/home/zoez/.conda/envs/gpu/lib/python3.9/site-packages/sklearn/metrics/_classification.py:1318: UndefinedMetricWarning: Precision and F-score are ill-defined and being set to 0.0 in labels with no predicted samples. Use `zero_division` parameter to control this behavior.\n",
            "  _warn_prf(average, modifier, msg_start, len(result))\n"
          ]
        }
      ],
      "source": [
        "# evaluate\n",
        "loss, acc = tf_model2.evaluate(x_clean_news_test_tf, y_test, verbose=0)\n",
        "print('Test Accuracy: %f' % (acc*100))\n",
        "\n",
        "\n",
        "predicted_tf2=tf_model2.predict(x_clean_news_test_tf)\n",
        "\n",
        "print(metrics.classification_report(np.argmax(y_test,axis=-1), np.argmax(predicted_tf2,axis=-1),target_names=None))"
      ]
    },
    {
      "cell_type": "markdown",
      "metadata": {
        "id": "ZitwI84uS8pe"
      },
      "source": [
        "TFIDF NN MODEL DOESN'T WORK DUE TO LACK OF MEMORY!!!"
      ]
    },
    {
      "cell_type": "code",
      "execution_count": 18,
      "metadata": {
        "colab": {
          "base_uri": "https://localhost:8080/",
          "height": 411
        },
        "id": "3bnkRB3MS8pj",
        "outputId": "49b659d4-27fc-4242-aeed-83418182ebf6"
      },
      "outputs": [
        {
          "ename": "MemoryError",
          "evalue": "Unable to allocate 65.3 GiB for an array with shape (77100, 113722) and data type float64",
          "output_type": "error",
          "traceback": [
            "\u001b[0;31m---------------------------------------------------------------------------\u001b[0m",
            "\u001b[0;31mMemoryError\u001b[0m                               Traceback (most recent call last)",
            "Input \u001b[0;32mIn [18]\u001b[0m, in \u001b[0;36m<module>\u001b[0;34m\u001b[0m\n\u001b[1;32m      4\u001b[0m \u001b[38;5;66;03m# Compile model\u001b[39;00m\n\u001b[1;32m      5\u001b[0m tfidf_model\u001b[38;5;241m.\u001b[39mcompile(loss\u001b[38;5;241m=\u001b[39m\u001b[38;5;124m'\u001b[39m\u001b[38;5;124mcategorical_crossentropy\u001b[39m\u001b[38;5;124m'\u001b[39m, optimizer\u001b[38;5;241m=\u001b[39m\u001b[38;5;124m'\u001b[39m\u001b[38;5;124madam\u001b[39m\u001b[38;5;124m'\u001b[39m, metrics\u001b[38;5;241m=\u001b[39m[\u001b[38;5;124m'\u001b[39m\u001b[38;5;124maccuracy\u001b[39m\u001b[38;5;124m'\u001b[39m])\n\u001b[0;32m----> 7\u001b[0m tfidf_model\u001b[38;5;241m.\u001b[39mfit(\u001b[43mx_clean_news_train_tfidf\u001b[49m\u001b[38;5;241;43m.\u001b[39;49m\u001b[43mtoarray\u001b[49m\u001b[43m(\u001b[49m\u001b[43m)\u001b[49m,y_train,epochs\u001b[38;5;241m=\u001b[39m\u001b[38;5;241m10\u001b[39m, verbose\u001b[38;5;241m=\u001b[39m\u001b[38;5;241m2\u001b[39m)\n",
            "File \u001b[0;32m~/.conda/envs/gpu/lib/python3.9/site-packages/scipy/sparse/compressed.py:1039\u001b[0m, in \u001b[0;36m_cs_matrix.toarray\u001b[0;34m(self, order, out)\u001b[0m\n\u001b[1;32m   1037\u001b[0m \u001b[38;5;28;01mif\u001b[39;00m out \u001b[38;5;129;01mis\u001b[39;00m \u001b[38;5;28;01mNone\u001b[39;00m \u001b[38;5;129;01mand\u001b[39;00m order \u001b[38;5;129;01mis\u001b[39;00m \u001b[38;5;28;01mNone\u001b[39;00m:\n\u001b[1;32m   1038\u001b[0m     order \u001b[38;5;241m=\u001b[39m \u001b[38;5;28mself\u001b[39m\u001b[38;5;241m.\u001b[39m_swap(\u001b[38;5;124m'\u001b[39m\u001b[38;5;124mcf\u001b[39m\u001b[38;5;124m'\u001b[39m)[\u001b[38;5;241m0\u001b[39m]\n\u001b[0;32m-> 1039\u001b[0m out \u001b[38;5;241m=\u001b[39m \u001b[38;5;28;43mself\u001b[39;49m\u001b[38;5;241;43m.\u001b[39;49m\u001b[43m_process_toarray_args\u001b[49m\u001b[43m(\u001b[49m\u001b[43morder\u001b[49m\u001b[43m,\u001b[49m\u001b[43m \u001b[49m\u001b[43mout\u001b[49m\u001b[43m)\u001b[49m\n\u001b[1;32m   1040\u001b[0m \u001b[38;5;28;01mif\u001b[39;00m \u001b[38;5;129;01mnot\u001b[39;00m (out\u001b[38;5;241m.\u001b[39mflags\u001b[38;5;241m.\u001b[39mc_contiguous \u001b[38;5;129;01mor\u001b[39;00m out\u001b[38;5;241m.\u001b[39mflags\u001b[38;5;241m.\u001b[39mf_contiguous):\n\u001b[1;32m   1041\u001b[0m     \u001b[38;5;28;01mraise\u001b[39;00m \u001b[38;5;167;01mValueError\u001b[39;00m(\u001b[38;5;124m'\u001b[39m\u001b[38;5;124mOutput array must be C or F contiguous\u001b[39m\u001b[38;5;124m'\u001b[39m)\n",
            "File \u001b[0;32m~/.conda/envs/gpu/lib/python3.9/site-packages/scipy/sparse/base.py:1202\u001b[0m, in \u001b[0;36mspmatrix._process_toarray_args\u001b[0;34m(self, order, out)\u001b[0m\n\u001b[1;32m   1200\u001b[0m     \u001b[38;5;28;01mreturn\u001b[39;00m out\n\u001b[1;32m   1201\u001b[0m \u001b[38;5;28;01melse\u001b[39;00m:\n\u001b[0;32m-> 1202\u001b[0m     \u001b[38;5;28;01mreturn\u001b[39;00m \u001b[43mnp\u001b[49m\u001b[38;5;241;43m.\u001b[39;49m\u001b[43mzeros\u001b[49m\u001b[43m(\u001b[49m\u001b[38;5;28;43mself\u001b[39;49m\u001b[38;5;241;43m.\u001b[39;49m\u001b[43mshape\u001b[49m\u001b[43m,\u001b[49m\u001b[43m \u001b[49m\u001b[43mdtype\u001b[49m\u001b[38;5;241;43m=\u001b[39;49m\u001b[38;5;28;43mself\u001b[39;49m\u001b[38;5;241;43m.\u001b[39;49m\u001b[43mdtype\u001b[49m\u001b[43m,\u001b[49m\u001b[43m \u001b[49m\u001b[43morder\u001b[49m\u001b[38;5;241;43m=\u001b[39;49m\u001b[43morder\u001b[49m\u001b[43m)\u001b[49m\n",
            "\u001b[0;31mMemoryError\u001b[0m: Unable to allocate 65.3 GiB for an array with shape (77100, 113722) and data type float64"
          ]
        }
      ],
      "source": [
        "tfidf_model = Sequential()\n",
        "tfidf_model.add(Dense(50, input_shape=(x_clean_news_train_tfidf.shape[1],), activation='relu'))\n",
        "tfidf_model.add(Dense(18, activation='softmax'))\n",
        "# Compile model\n",
        "tfidf_model.compile(loss='categorical_crossentropy', optimizer='adam', metrics=['accuracy'])\n",
        "\n",
        "tfidf_model.fit(x_clean_news_train_tfidf.toarray(),y_train,epochs=10, verbose=2)"
      ]
    },
    {
      "cell_type": "code",
      "execution_count": null,
      "metadata": {
        "colab": {
          "base_uri": "https://localhost:8080/"
        },
        "id": "awy4EWmNS8pk",
        "outputId": "773c9521-c25f-4790-fbe4-0d83477f978b"
      },
      "outputs": [
        {
          "name": "stdout",
          "output_type": "stream",
          "text": [
            "Model: \"sequential\"\n",
            "_________________________________________________________________\n",
            " Layer (type)                Output Shape              Param #   \n",
            "=================================================================\n",
            " dense (Dense)               (None, 50)                5686150   \n",
            "                                                                 \n",
            " dense_1 (Dense)             (None, 18)                918       \n",
            "                                                                 \n",
            "=================================================================\n",
            "Total params: 5,687,068\n",
            "Trainable params: 5,687,068\n",
            "Non-trainable params: 0\n",
            "_________________________________________________________________\n"
          ]
        }
      ],
      "source": [
        "tfidf_model.summary()"
      ]
    },
    {
      "cell_type": "code",
      "execution_count": null,
      "metadata": {
        "colab": {
          "base_uri": "https://localhost:8080/"
        },
        "id": "x4RmU00YS8pk",
        "outputId": "c4ef5723-249e-4656-c357-3f08fce11d56"
      },
      "outputs": [],
      "source": [
        "# evaluate\n",
        "loss, acc = tfidf_model.evaluate(x_clean_news_test_tfidf, y_test, verbose=0)\n",
        "print('Test Accuracy: %f' % (acc*100))"
      ]
    },
    {
      "cell_type": "code",
      "execution_count": null,
      "metadata": {
        "colab": {
          "base_uri": "https://localhost:8080/"
        },
        "id": "92SuH9KvS8pl",
        "outputId": "39dc6a6d-3bab-4f08-927d-6da1abd883d7"
      },
      "outputs": [],
      "source": [
        "predicted_tfidf=tfidf_model.predict(x_clean_news_test_tfidf)\n",
        "\n",
        "print(metrics.classification_report(np.argmax(y_test,axis=-1), np.argmax(predicted_tfidf,axis=-1),target_names=None))"
      ]
    }
  ],
  "metadata": {
    "colab": {
      "name": "NN.ipynb",
      "provenance": []
    },
    "interpreter": {
      "hash": "112133e99f08e250bfcc39b6d1d209aa723f8ca88a404a894f1f86a08f6b5247"
    },
    "kernelspec": {
      "display_name": "Python 3.9.9 64-bit ('gpu': conda)",
      "name": "python3"
    },
    "language_info": {
      "codemirror_mode": {
        "name": "ipython",
        "version": 3
      },
      "file_extension": ".py",
      "mimetype": "text/x-python",
      "name": "python",
      "nbconvert_exporter": "python",
      "pygments_lexer": "ipython3",
      "version": "3.9.9"
    }
  },
  "nbformat": 4,
  "nbformat_minor": 2
}
