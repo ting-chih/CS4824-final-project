{
 "cells": [
  {
   "cell_type": "code",
   "execution_count": 15,
   "id": "79a8959d",
   "metadata": {},
   "outputs": [],
   "source": [
    "from clean import data_preprocessing\n",
    "import csv\n",
    "import pandas as pd\n",
    "import numpy as np\n",
    "import math"
   ]
  },
  {
   "cell_type": "markdown",
   "id": "8d8147f9",
   "metadata": {},
   "source": [
    "# Read training data and testing data"
   ]
  },
  {
   "cell_type": "code",
   "execution_count": 16,
   "id": "51554607",
   "metadata": {},
   "outputs": [],
   "source": [
    "# read train.csv\n",
    "train = pd.read_csv(\"train.csv\", keep_default_na=False)\n",
    "train_title = []\n",
    "train_title_abstract = []\n",
    "train_category = []\n",
    "for i in range(0,81222):\n",
    "    train_title.append(train['Title'][i])\n",
    "    train_category.append(train['Category'][i])\n",
    "    text = train['Title'][i] + train['Abstract'][i]\n",
    "    train_title_abstract.append(text)\n",
    "#print(train.shape)\n",
    "#print(train.dtypes)\n",
    "#print(train.info)"
   ]
  },
  {
   "cell_type": "markdown",
   "id": "2a377cd0",
   "metadata": {},
   "source": [
    "# Clean text"
   ]
  },
  {
   "cell_type": "code",
   "execution_count": 17,
   "id": "c6030c39",
   "metadata": {},
   "outputs": [],
   "source": [
    "for i in range(len(train_title)):\n",
    "    train_title_abstract[i] = data_preprocessing(train_title_abstract[i])\n",
    "    train_title[i] = data_preprocessing(train_title[i])\n",
    "    #train_category[i] = data_preprocessing(train_category[i])"
   ]
  },
  {
   "cell_type": "code",
   "execution_count": 18,
   "id": "ca858469",
   "metadata": {},
   "outputs": [],
   "source": [
    "# read test.csv\n",
    "test = pd.read_csv('test.csv', keep_default_na=False)\n",
    "test_title = []\n",
    "test_title_abstract = []\n",
    "test_category = []\n",
    "for i in range(0,20305):\n",
    "    test_title.append(test['Title'][i])\n",
    "    test_category.append(test['Category'][i])\n",
    "    text = test['Title'][i] + test['Abstract'][i]\n",
    "    test_title_abstract.append(text)"
   ]
  },
  {
   "cell_type": "markdown",
   "id": "e2605095",
   "metadata": {},
   "source": [
    "# Clean text"
   ]
  },
  {
   "cell_type": "code",
   "execution_count": 19,
   "id": "b7686e58",
   "metadata": {},
   "outputs": [],
   "source": [
    "for i in range(len(test_title)):\n",
    "    test_title[i] = data_preprocessing(test_title[i])\n",
    "    test_title_abstract[i] = data_preprocessing(test_title_abstract[i])\n",
    "    #test_category[i] = data_preprocessing(test_category[i])"
   ]
  },
  {
   "cell_type": "code",
   "execution_count": 20,
   "id": "833c7a1f",
   "metadata": {},
   "outputs": [],
   "source": [
    "from sklearn.naive_bayes import MultinomialNB\n",
    "from sklearn.feature_extraction.text import CountVectorizer \n",
    "from sklearn.feature_extraction.text import TfidfTransformer\n",
    "from sklearn.pipeline import Pipeline\n",
    "from sklearn import metrics\n",
    "from sklearn.metrics import multilabel_confusion_matrix, confusion_matrix\n",
    "import matplotlib.pyplot as plt\n",
    "import product\n",
    "import seaborn as sns"
   ]
  },
  {
   "cell_type": "markdown",
   "id": "6f84e773",
   "metadata": {},
   "source": [
    "# Use text(Title) to do Bag of words"
   ]
  },
  {
   "cell_type": "code",
   "execution_count": 21,
   "id": "d23474b5",
   "metadata": {},
   "outputs": [],
   "source": [
    "count_vectorizer = CountVectorizer() \n",
    "text_train_Cvectors = count_vectorizer.fit_transform(train_title) "
   ]
  },
  {
   "cell_type": "code",
   "execution_count": 22,
   "id": "95c64fd7",
   "metadata": {},
   "outputs": [
    {
     "data": {
      "text/plain": [
       "(81222, 44862)"
      ]
     },
     "execution_count": 22,
     "metadata": {},
     "output_type": "execute_result"
    }
   ],
   "source": [
    "# tfidf = Term Frequency–Inverse Document Frequency\n",
    "# each word importance will improve by their appearing count, however they will reduce the word frequency in the corpus\n",
    "tfidf_transformer = TfidfTransformer()\n",
    "X_train_tfidf = tfidf_transformer.fit_transform(text_train_Cvectors)\n",
    "X_train_tfidf.shape"
   ]
  },
  {
   "cell_type": "code",
   "execution_count": 23,
   "id": "7d19ffdd",
   "metadata": {},
   "outputs": [],
   "source": [
    "clf = MultinomialNB().fit(X_train_tfidf, train_category)"
   ]
  },
  {
   "cell_type": "code",
   "execution_count": 24,
   "id": "70993625",
   "metadata": {},
   "outputs": [
    {
     "data": {
      "text/plain": [
       "Pipeline(steps=[('vect', CountVectorizer()), ('tfidf', TfidfTransformer()),\n",
       "                ('clf', MultinomialNB())])"
      ]
     },
     "execution_count": 24,
     "metadata": {},
     "output_type": "execute_result"
    }
   ],
   "source": [
    "text_clf = Pipeline([\n",
    "    ('vect', CountVectorizer()), # it only consider the frequency of each word\n",
    "    ('tfidf', TfidfTransformer()),\n",
    "    ('clf', MultinomialNB()),\n",
    "])\n",
    "text_clf.fit(train_title, train_category)"
   ]
  },
  {
   "cell_type": "code",
   "execution_count": 25,
   "id": "f833fd8d",
   "metadata": {},
   "outputs": [
    {
     "name": "stdout",
     "output_type": "stream",
     "text": [
      "               precision    recall  f1-score   support\n",
      "\n",
      "        autos       0.97      0.07      0.13       491\n",
      "entertainment       0.00      0.00      0.00       119\n",
      "      finance       0.80      0.03      0.06      1093\n",
      " foodanddrink       0.90      0.26      0.41       748\n",
      "       health       1.00      0.05      0.09       448\n",
      "         kids       0.00      0.00      0.00        16\n",
      "    lifestyle       0.74      0.04      0.08       665\n",
      "       movies       0.00      0.00      0.00       129\n",
      "        music       0.50      0.00      0.01       289\n",
      "         news       0.50      0.95      0.65      6319\n",
      " northamerica       0.00      0.00      0.00         1\n",
      "       sports       0.82      0.94      0.87      6715\n",
      "       travel       0.69      0.01      0.02      1036\n",
      "           tv       1.00      0.00      0.01       232\n",
      "        video       1.00      0.00      0.01      1086\n",
      "      weather       0.91      0.19      0.32       918\n",
      "\n",
      "     accuracy                           0.63     20305\n",
      "    macro avg       0.61      0.16      0.17     20305\n",
      " weighted avg       0.72      0.63      0.53     20305\n",
      "\n"
     ]
    },
    {
     "name": "stderr",
     "output_type": "stream",
     "text": [
      "C:\\Users\\Ting\\anaconda3\\lib\\site-packages\\sklearn\\metrics\\_classification.py:1221: UndefinedMetricWarning: Precision and F-score are ill-defined and being set to 0.0 in labels with no predicted samples. Use `zero_division` parameter to control this behavior.\n",
      "  _warn_prf(average, modifier, msg_start, len(result))\n"
     ]
    }
   ],
   "source": [
    "predicted = text_clf.predict(test_title)\n",
    "print(metrics.classification_report(test_category, predicted,target_names=None))"
   ]
  },
  {
   "cell_type": "markdown",
   "id": "09bc8c38",
   "metadata": {},
   "source": [
    "# Use text(Title,Abstract) to do Bag of words"
   ]
  },
  {
   "cell_type": "code",
   "execution_count": 26,
   "id": "8c546f49",
   "metadata": {
    "scrolled": false
   },
   "outputs": [
    {
     "name": "stdout",
     "output_type": "stream",
     "text": [
      "               precision    recall  f1-score   support\n",
      "\n",
      "        autos       1.00      0.01      0.02       491\n",
      "entertainment       0.00      0.00      0.00       119\n",
      "      finance       1.00      0.00      0.01      1093\n",
      " foodanddrink       0.98      0.14      0.24       748\n",
      "       health       0.00      0.00      0.00       448\n",
      "         kids       0.00      0.00      0.00        16\n",
      "    lifestyle       1.00      0.02      0.03       665\n",
      "       movies       0.00      0.00      0.00       129\n",
      "        music       0.00      0.00      0.00       289\n",
      "         news       0.48      0.98      0.65      6319\n",
      " northamerica       0.00      0.00      0.00         1\n",
      "       sports       0.86      0.94      0.90      6715\n",
      "       travel       0.00      0.00      0.00      1036\n",
      "           tv       0.00      0.00      0.00       232\n",
      "        video       0.00      0.00      0.00      1086\n",
      "      weather       0.95      0.07      0.13       918\n",
      "\n",
      "     accuracy                           0.63     20305\n",
      "    macro avg       0.39      0.13      0.12     20305\n",
      " weighted avg       0.62      0.63      0.52     20305\n",
      "\n"
     ]
    },
    {
     "name": "stderr",
     "output_type": "stream",
     "text": [
      "C:\\Users\\Ting\\anaconda3\\lib\\site-packages\\sklearn\\metrics\\_classification.py:1221: UndefinedMetricWarning: Precision and F-score are ill-defined and being set to 0.0 in labels with no predicted samples. Use `zero_division` parameter to control this behavior.\n",
      "  _warn_prf(average, modifier, msg_start, len(result))\n"
     ]
    }
   ],
   "source": [
    "TA_count_vectorizer = CountVectorizer() \n",
    "TA_text_train_Cvectors = TA_count_vectorizer.fit_transform(train_title_abstract) \n",
    "TA_tfidf_transformer = TfidfTransformer()\n",
    "TA_X_train_tfidf = TA_tfidf_transformer.fit_transform(TA_text_train_Cvectors)\n",
    "\n",
    "clf = MultinomialNB().fit(TA_X_train_tfidf, train_category)\n",
    "TA_text_clf = Pipeline([\n",
    "    ('vect', CountVectorizer()), # it only consider the frequency of each word\n",
    "    ('tfidf', TfidfTransformer()),\n",
    "    ('clf', MultinomialNB()),\n",
    "])\n",
    "\n",
    "TA_text_clf.fit(train_title_abstract, train_category)\n",
    "predicted = TA_text_clf.predict(test_title_abstract)\n",
    "print(metrics.classification_report(test_category, predicted,target_names=None))"
   ]
  },
  {
   "cell_type": "markdown",
   "id": "77104f52",
   "metadata": {},
   "source": [
    "# Confusion Matrix"
   ]
  },
  {
   "cell_type": "code",
   "execution_count": 27,
   "id": "b351f019",
   "metadata": {},
   "outputs": [
    {
     "data": {
      "image/png": "[encoded data removed]",
      "text/plain": [
       "<Figure size 720x720 with 2 Axes>"
      ]
     },
     "metadata": {
      "needs_background": "light"
     },
     "output_type": "display_data"
    }
   ],
   "source": [
    "label = ['sports', 'news', 'finance', 'autos', 'lifestyle', 'travel', 'weather', 'health',\n",
    " 'video', 'foodanddrink', 'movies', 'tv', 'music', 'entertainment', 'kids',\n",
    " 'northamerica']\n",
    "c_m = confusion_matrix(test_category, predicted, labels = label)\n",
    "\n",
    "#Plot the confusion matrix\n",
    "plt.figure(figsize=(10,10))\n",
    "sns.heatmap(pd.DataFrame(c_m, label, label), annot=True, fmt='d', cmap='viridis')\n",
    "plt.title('Confusion Matrix for Title and Abstract Testing')\n",
    "plt.ylabel('Actal')\n",
    "plt.xlabel('Predicted')\n",
    "plt.show()"
   ]
  }
 ],
 "metadata": {
  "kernelspec": {
   "display_name": "Python 3",
   "language": "python",
   "name": "python3"
  },
  "language_info": {
   "codemirror_mode": {
    "name": "ipython",
    "version": 3
   },
   "file_extension": ".py",
   "mimetype": "text/x-python",
   "name": "python",
   "nbconvert_exporter": "python",
   "pygments_lexer": "ipython3",
   "version": "3.8.8"
  }
 },
 "nbformat": 4,
 "nbformat_minor": 5
}
