{
  "metadata": {
    "language_info": {
      "codemirror_mode": {
        "name": "ipython",
        "version": 3
      },
      "file_extension": ".py",
      "mimetype": "text/x-python",
      "name": "python",
      "nbconvert_exporter": "python",
      "pygments_lexer": "ipython3",
      "version": "3.8.8-final"
    },
    "orig_nbformat": 2,
    "kernelspec": {
      "name": "python3",
      "display_name": "Python 3.8.8 64-bit ('base': conda)",
      "metadata": {
        "interpreter": {
          "hash": "11977654e561c01db1ff29e5f3e2a81c08033148d381151096365f31d446ee9f"
        }
      }
    },
    "colab": {
      "name": "Logistic_Regression.ipynb",
      "provenance": [],
      "collapsed_sections": []
    }
  },
  "nbformat": 4,
  "nbformat_minor": 0,
  "cells": [
    {
      "cell_type": "code",
      "source": [
        "from google.colab import drive\n",
        "drive.mount('/content/gdrive/') \n",
        "%cd \"/content/gdrive/MyDrive/Colab Notebooks/ML_project\""
      ],
      "metadata": {
        "colab": {
          "base_uri": "https://localhost:8080/"
        },
        "id": "moMRf3DBYapv",
        "outputId": "dae2f9c3-1e05-45f5-de13-652ede2bdac6"
      },
      "execution_count": 48,
      "outputs": [
        {
          "output_type": "stream",
          "name": "stdout",
          "text": [
            "Drive already mounted at /content/gdrive/; to attempt to forcibly remount, call drive.mount(\"/content/gdrive/\", force_remount=True).\n",
            "/content/gdrive/MyDrive/Colab Notebooks/ML_project\n"
          ]
        }
      ]
    },
    {
      "cell_type": "code",
      "execution_count": 49,
      "metadata": {
        "id": "dNzW-isYml_H"
      },
      "outputs": [],
      "source": [
        "import numpy as np\n",
        "import pandas as pd\n",
        "import seaborn as sns\n",
        "\n",
        "# from sklearn.model_selection import train_test_split\n",
        "from sklearn.feature_extraction.text import CountVectorizer\n",
        "from sklearn.linear_model import LogisticRegression\n",
        "from sklearn.metrics import classification_report, confusion_matrix\n",
        "\n",
        "import matplotlib.pyplot as plt"
      ]
    },
    {
      "source": [
        "# Read the train.csv file"
      ],
      "cell_type": "markdown",
      "metadata": {
        "id": "CnYYnwkcml_L"
      }
    },
    {
      "cell_type": "code",
      "execution_count": 50,
      "metadata": {
        "colab": {
          "base_uri": "https://localhost:8080/",
          "height": 223
        },
        "id": "hPbNQRb8ml_M",
        "outputId": "8500773a-4021-4778-88b2-991daedf2aba"
      },
      "outputs": [
        {
          "output_type": "stream",
          "name": "stdout",
          "text": [
            "Length of the training dataset  77100\n"
          ]
        },
        {
          "output_type": "execute_result",
          "data": {
            "text/plain": [
              "    NewID   Category                                              Title  \\\n",
              "0  N88753  lifestyle  The Brands Queen Elizabeth, Prince Charles, an...   \n",
              "1  N45436       news    Walmart Slashes Prices on Last-Generation iPads   \n",
              "2  N23144     health                      50 Worst Habits For Belly Fat   \n",
              "4  N93187       news  The Cost of Trump's Aid Freeze in the Trenches...   \n",
              "5  N75236     health  I Was An NBA Wife. Here's How It Affected My M...   \n",
              "\n",
              "                                            Abstract  \\\n",
              "0  Shop the notebooks, jackets, and more that the...   \n",
              "1  Apple's new iPad releases bring big deals on l...   \n",
              "2  These seemingly harmless habits are holding yo...   \n",
              "4  Lt. Ivan Molchanets peeked over a parapet of s...   \n",
              "5  I felt like I was a fraud, and being an NBA wi...   \n",
              "\n",
              "                                                News  \n",
              "0  The Brands Queen Elizabeth, Prince Charles, an...  \n",
              "1  Walmart Slashes Prices on Last-Generation iPad...  \n",
              "2  50 Worst Habits For Belly Fat These seemingly ...  \n",
              "4  The Cost of Trump's Aid Freeze in the Trenches...  \n",
              "5  I Was An NBA Wife. Here's How It Affected My M...  "
            ],
            "text/html": [
              "\n",
              "  <div id=\"df-d4b5a735-0839-4bb9-8e1e-bfac3ce6ab0b\">\n",
              "    <div class=\"colab-df-container\">\n",
              "      <div>\n",
              "<style scoped>\n",
              "    .dataframe tbody tr th:only-of-type {\n",
              "        vertical-align: middle;\n",
              "    }\n",
              "\n",
              "    .dataframe tbody tr th {\n",
              "        vertical-align: top;\n",
              "    }\n",
              "\n",
              "    .dataframe thead th {\n",
              "        text-align: right;\n",
              "    }\n",
              "</style>\n",
              "<table border=\"1\" class=\"dataframe\">\n",
              "  <thead>\n",
              "    <tr style=\"text-align: right;\">\n",
              "      <th></th>\n",
              "      <th>NewID</th>\n",
              "      <th>Category</th>\n",
              "      <th>Title</th>\n",
              "      <th>Abstract</th>\n",
              "      <th>News</th>\n",
              "    </tr>\n",
              "  </thead>\n",
              "  <tbody>\n",
              "    <tr>\n",
              "      <th>0</th>\n",
              "      <td>N88753</td>\n",
              "      <td>lifestyle</td>\n",
              "      <td>The Brands Queen Elizabeth, Prince Charles, an...</td>\n",
              "      <td>Shop the notebooks, jackets, and more that the...</td>\n",
              "      <td>The Brands Queen Elizabeth, Prince Charles, an...</td>\n",
              "    </tr>\n",
              "    <tr>\n",
              "      <th>1</th>\n",
              "      <td>N45436</td>\n",
              "      <td>news</td>\n",
              "      <td>Walmart Slashes Prices on Last-Generation iPads</td>\n",
              "      <td>Apple's new iPad releases bring big deals on l...</td>\n",
              "      <td>Walmart Slashes Prices on Last-Generation iPad...</td>\n",
              "    </tr>\n",
              "    <tr>\n",
              "      <th>2</th>\n",
              "      <td>N23144</td>\n",
              "      <td>health</td>\n",
              "      <td>50 Worst Habits For Belly Fat</td>\n",
              "      <td>These seemingly harmless habits are holding yo...</td>\n",
              "      <td>50 Worst Habits For Belly Fat These seemingly ...</td>\n",
              "    </tr>\n",
              "    <tr>\n",
              "      <th>4</th>\n",
              "      <td>N93187</td>\n",
              "      <td>news</td>\n",
              "      <td>The Cost of Trump's Aid Freeze in the Trenches...</td>\n",
              "      <td>Lt. Ivan Molchanets peeked over a parapet of s...</td>\n",
              "      <td>The Cost of Trump's Aid Freeze in the Trenches...</td>\n",
              "    </tr>\n",
              "    <tr>\n",
              "      <th>5</th>\n",
              "      <td>N75236</td>\n",
              "      <td>health</td>\n",
              "      <td>I Was An NBA Wife. Here's How It Affected My M...</td>\n",
              "      <td>I felt like I was a fraud, and being an NBA wi...</td>\n",
              "      <td>I Was An NBA Wife. Here's How It Affected My M...</td>\n",
              "    </tr>\n",
              "  </tbody>\n",
              "</table>\n",
              "</div>\n",
              "      <button class=\"colab-df-convert\" onclick=\"convertToInteractive('df-d4b5a735-0839-4bb9-8e1e-bfac3ce6ab0b')\"\n",
              "              title=\"Convert this dataframe to an interactive table.\"\n",
              "              style=\"display:none;\">\n",
              "        \n",
              "  <svg xmlns=\"http://www.w3.org/2000/svg\" height=\"24px\"viewBox=\"0 0 24 24\"\n",
              "       width=\"24px\">\n",
              "    <path d=\"M0 0h24v24H0V0z\" fill=\"none\"/>\n",
              "    <path d=\"M18.56 5.44l.94 2.06.94-2.06 2.06-.94-2.06-.94-.94-2.06-.94 2.06-2.06.94zm-11 1L8.5 8.5l.94-2.06 2.06-.94-2.06-.94L8.5 2.5l-.94 2.06-2.06.94zm10 10l.94 2.06.94-2.06 2.06-.94-2.06-.94-.94-2.06-.94 2.06-2.06.94z\"/><path d=\"M17.41 7.96l-1.37-1.37c-.4-.4-.92-.59-1.43-.59-.52 0-1.04.2-1.43.59L10.3 9.45l-7.72 7.72c-.78.78-.78 2.05 0 2.83L4 21.41c.39.39.9.59 1.41.59.51 0 1.02-.2 1.41-.59l7.78-7.78 2.81-2.81c.8-.78.8-2.07 0-2.86zM5.41 20L4 18.59l7.72-7.72 1.47 1.35L5.41 20z\"/>\n",
              "  </svg>\n",
              "      </button>\n",
              "      \n",
              "  <style>\n",
              "    .colab-df-container {\n",
              "      display:flex;\n",
              "      flex-wrap:wrap;\n",
              "      gap: 12px;\n",
              "    }\n",
              "\n",
              "    .colab-df-convert {\n",
              "      background-color: #E8F0FE;\n",
              "      border: none;\n",
              "      border-radius: 50%;\n",
              "      cursor: pointer;\n",
              "      display: none;\n",
              "      fill: #1967D2;\n",
              "      height: 32px;\n",
              "      padding: 0 0 0 0;\n",
              "      width: 32px;\n",
              "    }\n",
              "\n",
              "    .colab-df-convert:hover {\n",
              "      background-color: #E2EBFA;\n",
              "      box-shadow: 0px 1px 2px rgba(60, 64, 67, 0.3), 0px 1px 3px 1px rgba(60, 64, 67, 0.15);\n",
              "      fill: #174EA6;\n",
              "    }\n",
              "\n",
              "    [theme=dark] .colab-df-convert {\n",
              "      background-color: #3B4455;\n",
              "      fill: #D2E3FC;\n",
              "    }\n",
              "\n",
              "    [theme=dark] .colab-df-convert:hover {\n",
              "      background-color: #434B5C;\n",
              "      box-shadow: 0px 1px 3px 1px rgba(0, 0, 0, 0.15);\n",
              "      filter: drop-shadow(0px 1px 2px rgba(0, 0, 0, 0.3));\n",
              "      fill: #FFFFFF;\n",
              "    }\n",
              "  </style>\n",
              "\n",
              "      <script>\n",
              "        const buttonEl =\n",
              "          document.querySelector('#df-d4b5a735-0839-4bb9-8e1e-bfac3ce6ab0b button.colab-df-convert');\n",
              "        buttonEl.style.display =\n",
              "          google.colab.kernel.accessAllowed ? 'block' : 'none';\n",
              "\n",
              "        async function convertToInteractive(key) {\n",
              "          const element = document.querySelector('#df-d4b5a735-0839-4bb9-8e1e-bfac3ce6ab0b');\n",
              "          const dataTable =\n",
              "            await google.colab.kernel.invokeFunction('convertToInteractive',\n",
              "                                                     [key], {});\n",
              "          if (!dataTable) return;\n",
              "\n",
              "          const docLinkHtml = 'Like what you see? Visit the ' +\n",
              "            '<a target=\"_blank\" href=https://colab.research.google.com/notebooks/data_table.ipynb>data table notebook</a>'\n",
              "            + ' to learn more about interactive tables.';\n",
              "          element.innerHTML = '';\n",
              "          dataTable['output_type'] = 'display_data';\n",
              "          await google.colab.output.renderOutput(dataTable, element);\n",
              "          const docLink = document.createElement('div');\n",
              "          docLink.innerHTML = docLinkHtml;\n",
              "          element.appendChild(docLink);\n",
              "        }\n",
              "      </script>\n",
              "    </div>\n",
              "  </div>\n",
              "  "
            ]
          },
          "metadata": {},
          "execution_count": 50
        }
      ],
      "source": [
        "df = pd.read_csv('train.csv', index_col=0)\n",
        "\n",
        "# Combine the features Title and Abstract into one\n",
        "df['News'] = df['Title'].str.cat(df['Abstract'],sep=\" \")\n",
        "\n",
        "# Drop all rows that contain NaN under those columns\n",
        "df.dropna(subset = [\"News\"], inplace=True)\n",
        "\n",
        "print('Length of the training dataset ', len(df))\n",
        "df.head()"
      ]
    },
    {
      "source": [
        "# Plot training data features distribution"
      ],
      "cell_type": "markdown",
      "metadata": {
        "id": "9COBLaqeml_O"
      }
    },
    {
      "cell_type": "code",
      "execution_count": 51,
      "metadata": {
        "colab": {
          "base_uri": "https://localhost:8080/",
          "height": 362
        },
        "id": "2AuNroEfml_P",
        "outputId": "4a7cfd38-d667-484c-c248-5ade790f1825"
      },
      "outputs": [
        {
          "output_type": "stream",
          "name": "stdout",
          "text": [
            "Number of Catergories  17  which contains\n"
          ]
        },
        {
          "output_type": "execute_result",
          "data": {
            "text/plain": [
              "<matplotlib.axes._subplots.AxesSubplot at 0x7f92cbbfd310>"
            ]
          },
          "metadata": {},
          "execution_count": 51
        },
        {
          "output_type": "display_data",
          "data": {
            "text/plain": [
              "<Figure size 432x288 with 1 Axes>"
            ],
            "image/png": "[encoded data removed]"
          },
          "metadata": {
            "needs_background": "light"
          }
        }
      ],
      "source": [
        "# Get the unique Catergory classes in the dataset\n",
        "classes = df.Category.unique()\n",
        "print('Number of Catergories ', len(classes), ' which contains')\n",
        "\n",
        "# Create a sample dataframe with an text index and plot bar chart\n",
        "counts = []\n",
        "for i in classes:\n",
        "  count = len(df[df['Category']==i])\n",
        "  counts.append(count)\n",
        "\n",
        "categories = ['lifestyle', 'news', 'health', 'sports', 'weather',\n",
        "       'entertainment', 'foodanddrink', 'autos', 'travel', 'video', 'tv',\n",
        "       'finance', 'movies', 'music', 'kids', 'middleeast', 'games']\n",
        "\n",
        "plotdata = pd.DataFrame({\"category counts\": counts}, index=categories)\n",
        "plotdata.plot(kind=\"bar\")"
      ]
    },
    {
      "cell_type": "markdown",
      "source": [
        "# Do Bag of Words on text (Title only)"
      ],
      "metadata": {
        "id": "hag1y4kHo08E"
      }
    },
    {
      "cell_type": "code",
      "source": [
        "x_title_train, y_title_train = df.Title.values, df.Category.values\n",
        "\n",
        "title_vectorize = CountVectorizer()\n",
        "X_title_train = title_vectorize.fit_transform(x_title_train)\n",
        "# X_title_test = title_vectorize.transform(x_title_test)\n",
        "#print('The first new \\n\\n', x_title_train[0], '\\n', X_title_train[0])\n",
        "\n",
        "model_title = LogisticRegression(max_iter=1000)\n",
        "model_title.fit(X_title_train, y_title_train)"
      ],
      "metadata": {
        "id": "9NpdPyYGpDHN",
        "colab": {
          "base_uri": "https://localhost:8080/"
        },
        "outputId": "9add7840-a2a4-4edb-d64f-e1aeff790071"
      },
      "execution_count": 52,
      "outputs": [
        {
          "output_type": "execute_result",
          "data": {
            "text/plain": [
              "LogisticRegression(max_iter=1000)"
            ]
          },
          "metadata": {},
          "execution_count": 52
        }
      ]
    },
    {
      "cell_type": "markdown",
      "source": [
        "# Do Bag of Words on text (Title and Abstract)"
      ],
      "metadata": {
        "id": "F5pFBrJVs5nI"
      }
    },
    {
      "cell_type": "code",
      "execution_count": 53,
      "metadata": {
        "id": "JUFZSnuXpz_3",
        "colab": {
          "base_uri": "https://localhost:8080/"
        },
        "outputId": "f60033ee-6dc1-435d-dca7-76c8b2abe898"
      },
      "outputs": [
        {
          "output_type": "execute_result",
          "data": {
            "text/plain": [
              "LogisticRegression(max_iter=1000)"
            ]
          },
          "metadata": {},
          "execution_count": 53
        }
      ],
      "source": [
        "# Vectorizing the text values using CountVectorizer\n",
        "x_title_abstract_train, y_title_abstract_train = df.News.values, df.Category.values\n",
        "\n",
        "# y_train=y_train.astype('int')\n",
        "\n",
        "news_vectorize = CountVectorizer()\n",
        "# vectorize.fit(x_train)\n",
        "X_title_abstract_train = news_vectorize.fit_transform(x_title_abstract_train)\n",
        "\n",
        "# Train the model using LogisticRegression algorithm\n",
        "model_news = LogisticRegression(max_iter=1000)\n",
        "model_news.fit(X_title_abstract_train, y_title_abstract_train)"
      ]
    },
    {
      "source": [
        "# Read the test.csv file and plot the distribution"
      ],
      "cell_type": "markdown",
      "metadata": {
        "id": "V00ZQjxlml_U"
      }
    },
    {
      "cell_type": "code",
      "source": [
        "test_df = pd.read_csv('./test.csv', index_col=0)\n",
        "test_df['News'] = test_df['Title'].str.cat(test_df['Abstract'],sep=\" \")\n",
        "test_df.dropna(subset = [\"News\"], inplace=True)"
      ],
      "metadata": {
        "id": "SYNVd5Aa9Lq7"
      },
      "execution_count": 54,
      "outputs": []
    },
    {
      "cell_type": "code",
      "source": [
        "# Get the unique Catergory classes in the test.csv dataset\n",
        "classes_test = test_df.Category.unique()\n",
        "print('Number of Catergories ', len(classes_test), ' which contains')\n",
        "\n",
        "# Create a sample dataframe with an text index and plot bar chart\n",
        "counts_test = []\n",
        "\n",
        "for i in classes_test:\n",
        "  count = len(test_df[test_df['Category']==i])\n",
        "  counts_test.append(count)\n",
        "\n",
        "categories_test = ['sports', 'news', 'finance', 'autos', 'lifestyle', 'travel',\n",
        "       'weather', 'health', 'video', 'foodanddrink', 'movies', 'tv',\n",
        "       'music', 'entertainment', 'kids', 'northamerica']\n",
        "\n",
        "plotdata_test = pd.DataFrame({\"category counts\": counts_test}, index=categories_test)\n",
        "plotdata_test.plot(kind=\"bar\")"
      ],
      "metadata": {
        "colab": {
          "base_uri": "https://localhost:8080/",
          "height": 362
        },
        "id": "4-LHUfn49nbf",
        "outputId": "2b2db9fc-6e5a-4a0e-b1f7-87891cd2f9f4"
      },
      "execution_count": 55,
      "outputs": [
        {
          "output_type": "stream",
          "name": "stdout",
          "text": [
            "Number of Catergories  16  which contains\n"
          ]
        },
        {
          "output_type": "execute_result",
          "data": {
            "text/plain": [
              "<matplotlib.axes._subplots.AxesSubplot at 0x7f92c819c2d0>"
            ]
          },
          "metadata": {},
          "execution_count": 55
        },
        {
          "output_type": "display_data",
          "data": {
            "text/plain": [
              "<Figure size 432x288 with 1 Axes>"
            ],
            "image/png": "[encoded data removed]"
          },
          "metadata": {
            "needs_background": "light"
          }
        }
      ]
    },
    {
      "cell_type": "markdown",
      "source": [
        "# Accuracy on unseen dataset test.csv based on text (Title only)"
      ],
      "metadata": {
        "id": "MXQY0sodWHyw"
      }
    },
    {
      "cell_type": "code",
      "execution_count": 56,
      "metadata": {
        "colab": {
          "base_uri": "https://localhost:8080/"
        },
        "id": "X8Xg8720ml_U",
        "outputId": "97daa1cb-7eb1-4799-b3d6-28e70ad4d999"
      },
      "outputs": [
        {
          "output_type": "stream",
          "name": "stdout",
          "text": [
            "Test.csv's on feature Title accuracy:  0.7085524931622134 \n",
            "\n"
          ]
        },
        {
          "output_type": "stream",
          "name": "stderr",
          "text": [
            "/usr/local/lib/python3.7/dist-packages/sklearn/metrics/_classification.py:1318: UndefinedMetricWarning: Precision and F-score are ill-defined and being set to 0.0 in labels with no predicted samples. Use `zero_division` parameter to control this behavior.\n",
            "  _warn_prf(average, modifier, msg_start, len(result))\n"
          ]
        },
        {
          "output_type": "stream",
          "name": "stdout",
          "text": [
            "               precision    recall  f1-score   support\n",
            "\n",
            "        autos       0.61      0.50      0.55       436\n",
            "entertainment       0.61      0.35      0.45       111\n",
            "      finance       0.53      0.49      0.51      1064\n",
            " foodanddrink       0.71      0.66      0.68       731\n",
            "       health       0.64      0.52      0.57       417\n",
            "         kids       0.00      0.00      0.00        16\n",
            "    lifestyle       0.34      0.34      0.34       587\n",
            "       movies       0.74      0.41      0.53       127\n",
            "        music       0.81      0.58      0.68       278\n",
            "         news       0.65      0.77      0.71      6076\n",
            " northamerica       0.00      0.00      0.00         1\n",
            "       sports       0.90      0.94      0.92      6090\n",
            "       travel       0.46      0.34      0.39       951\n",
            "           tv       0.52      0.28      0.37       227\n",
            "        video       0.39      0.22      0.28      1086\n",
            "      weather       0.72      0.63      0.67       814\n",
            "\n",
            "     accuracy                           0.71     19012\n",
            "    macro avg       0.54      0.44      0.48     19012\n",
            " weighted avg       0.70      0.71      0.70     19012\n",
            "\n"
          ]
        },
        {
          "output_type": "stream",
          "name": "stderr",
          "text": [
            "/usr/local/lib/python3.7/dist-packages/sklearn/metrics/_classification.py:1318: UndefinedMetricWarning: Precision and F-score are ill-defined and being set to 0.0 in labels with no predicted samples. Use `zero_division` parameter to control this behavior.\n",
            "  _warn_prf(average, modifier, msg_start, len(result))\n",
            "/usr/local/lib/python3.7/dist-packages/sklearn/metrics/_classification.py:1318: UndefinedMetricWarning: Precision and F-score are ill-defined and being set to 0.0 in labels with no predicted samples. Use `zero_division` parameter to control this behavior.\n",
            "  _warn_prf(average, modifier, msg_start, len(result))\n"
          ]
        }
      ],
      "source": [
        "# Testing the accuracy of only Title feature on test.csv file\n",
        "feature_test_title, label_test_title = test_df.Title.values, test_df.Category.values\n",
        "Feature_test_title = title_vectorize.transform(feature_test_title)\n",
        "accuracy_title = model_title.score(Feature_test_title, label_test_title)\n",
        "print(\"Test.csv's on feature Title accuracy: \", accuracy_title, '\\n')\n",
        "\n",
        "title_predict = model_title.predict(Feature_test_title)\n",
        "print(classification_report(label_test_title, title_predict, target_names=None))"
      ]
    },
    {
      "cell_type": "markdown",
      "source": [
        "# Accuracy on unseen dataset test.csv based on text (Title and Abstract)"
      ],
      "metadata": {
        "id": "_-Jvu3GFWR7E"
      }
    },
    {
      "cell_type": "code",
      "source": [
        "# Testing the accuracy of Title and Abstract - News feature on test.csv file\n",
        "feature_test_news, label_test_news = test_df.News.values, test_df.Category.values\n",
        "Feature_test_news = news_vectorize.transform(feature_test_news)\n",
        "accuracy_news = model_news.score(Feature_test_news, label_test_news)\n",
        "print(\"Test.csv's on feature Title and Abstract - News accuracy: \", accuracy_news, '\\n')\n",
        "\n",
        "news_predict = model_news.predict(Feature_test_news)\n",
        "print(classification_report(label_test_news, news_predict, target_names=None))"
      ],
      "metadata": {
        "colab": {
          "base_uri": "https://localhost:8080/"
        },
        "id": "WjOFGaMBVuXp",
        "outputId": "3f6c573c-13cb-41a0-dd9d-5093c08bcdec"
      },
      "execution_count": 57,
      "outputs": [
        {
          "output_type": "stream",
          "name": "stdout",
          "text": [
            "Test.csv's on feature Title and Abstract - News accuracy:  0.7347990742688828 \n",
            "\n"
          ]
        },
        {
          "output_type": "stream",
          "name": "stderr",
          "text": [
            "/usr/local/lib/python3.7/dist-packages/sklearn/metrics/_classification.py:1318: UndefinedMetricWarning: Precision and F-score are ill-defined and being set to 0.0 in labels with no predicted samples. Use `zero_division` parameter to control this behavior.\n",
            "  _warn_prf(average, modifier, msg_start, len(result))\n"
          ]
        },
        {
          "output_type": "stream",
          "name": "stdout",
          "text": [
            "               precision    recall  f1-score   support\n",
            "\n",
            "        autos       0.60      0.56      0.58       436\n",
            "entertainment       0.47      0.39      0.43       111\n",
            "      finance       0.54      0.55      0.54      1064\n",
            " foodanddrink       0.74      0.72      0.73       731\n",
            "       health       0.59      0.59      0.59       417\n",
            "         kids       0.00      0.00      0.00        16\n",
            "    lifestyle       0.37      0.38      0.38       587\n",
            "       movies       0.68      0.51      0.59       127\n",
            "        music       0.78      0.61      0.69       278\n",
            "         news       0.70      0.76      0.73      6076\n",
            " northamerica       0.00      0.00      0.00         1\n",
            "       sports       0.93      0.95      0.94      6090\n",
            "       travel       0.48      0.40      0.44       951\n",
            "           tv       0.51      0.36      0.42       227\n",
            "        video       0.52      0.39      0.44      1086\n",
            "      weather       0.74      0.69      0.72       814\n",
            "\n",
            "     accuracy                           0.73     19012\n",
            "    macro avg       0.54      0.49      0.51     19012\n",
            " weighted avg       0.73      0.73      0.73     19012\n",
            "\n"
          ]
        },
        {
          "output_type": "stream",
          "name": "stderr",
          "text": [
            "/usr/local/lib/python3.7/dist-packages/sklearn/metrics/_classification.py:1318: UndefinedMetricWarning: Precision and F-score are ill-defined and being set to 0.0 in labels with no predicted samples. Use `zero_division` parameter to control this behavior.\n",
            "  _warn_prf(average, modifier, msg_start, len(result))\n",
            "/usr/local/lib/python3.7/dist-packages/sklearn/metrics/_classification.py:1318: UndefinedMetricWarning: Precision and F-score are ill-defined and being set to 0.0 in labels with no predicted samples. Use `zero_division` parameter to control this behavior.\n",
            "  _warn_prf(average, modifier, msg_start, len(result))\n"
          ]
        }
      ]
    },
    {
      "cell_type": "markdown",
      "source": [
        "# Confusion Matrix for Title "
      ],
      "metadata": {
        "id": "NVkBOiJBSVqH"
      }
    },
    {
      "cell_type": "code",
      "source": [
        "labels = ['sports', 'news', 'finance', 'autos', 'lifestyle', 'travel', 'weather', 'health',\n",
        " 'video', 'foodanddrink', 'movies', 'tv', 'music', 'entertainment', 'kids',\n",
        " 'northamerica']\n",
        "\n",
        "c_m = confusion_matrix(label_test_news, news_predict, labels = labels)\n",
        "\n",
        "#Plot the confusion matrix\n",
        "plt.figure(figsize=(10,10))\n",
        "sns.heatmap(pd.DataFrame(c_m, labels, labels), annot=True, fmt='d', cmap='viridis')\n",
        "plt.title('Confusion Matrix for Title and Abstract Testing')\n",
        "plt.ylabel('Actal Categoies')\n",
        "plt.xlabel('Predicted Categoies')\n",
        "print('As the Consufion Matric table shows below, Logistic Regression performs better in News categories as sports and news.')\n",
        "plt.show()"
      ],
      "metadata": {
        "colab": {
          "base_uri": "https://localhost:8080/",
          "height": 701
        },
        "id": "J8JuH_vIPc5t",
        "outputId": "f5531d23-72eb-488b-c74b-b237bd4fc425"
      },
      "execution_count": 66,
      "outputs": [
        {
          "output_type": "stream",
          "name": "stdout",
          "text": [
            "As the Consufion Matric table shows below, Logistic Regression performs better in News categories as sports and news.\n"
          ]
        },
        {
          "output_type": "display_data",
          "data": {
            "text/plain": [
              "<Figure size 720x720 with 2 Axes>"
            ],
            "image/png": "[encoded data removed]"
          },
          "metadata": {
            "needs_background": "light"
          }
        }
      ]
    }
  ]
}