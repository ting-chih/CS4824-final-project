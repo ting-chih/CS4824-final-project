{
  "metadata": {
    "language_info": {
      "codemirror_mode": {
        "name": "ipython",
        "version": 3
      },
      "file_extension": ".py",
      "mimetype": "text/x-python",
      "name": "python",
      "nbconvert_exporter": "python",
      "pygments_lexer": "ipython3",
      "version": "3.8.8-final"
    },
    "orig_nbformat": 2,
    "kernelspec": {
      "name": "python3",
      "display_name": "Python 3.8.8 64-bit ('base': conda)",
      "metadata": {
        "interpreter": {
          "hash": "11977654e561c01db1ff29e5f3e2a81c08033148d381151096365f31d446ee9f"
        }
      }
    },
    "colab": {
      "name": "Logistic_Regression.ipynb",
      "provenance": [],
      "collapsed_sections": []
    }
  },
  "nbformat": 4,
  "nbformat_minor": 0,
  "cells": [
    {
      "cell_type": "code",
      "source": [
        "from google.colab import drive\n",
        "drive.mount('/content/gdrive/') \n",
        "%cd \"/content/gdrive/MyDrive/Colab Notebooks/ML_project\""
      ],
      "metadata": {
        "colab": {
          "base_uri": "https://localhost:8080/"
        },
        "id": "8sIjuJssm0s7",
        "outputId": "b6e4c9d9-6222-4469-bad4-74bf4a0e0da8"
      },
      "execution_count": 36,
      "outputs": [
        {
          "output_type": "stream",
          "name": "stdout",
          "text": [
            "Drive already mounted at /content/gdrive/; to attempt to forcibly remount, call drive.mount(\"/content/gdrive/\", force_remount=True).\n",
            "/content/gdrive/MyDrive/Colab Notebooks/ML_project\n"
          ]
        }
      ]
    },
    {
      "cell_type": "code",
      "execution_count": 37,
      "metadata": {
        "id": "dNzW-isYml_H"
      },
      "outputs": [],
      "source": [
        "import numpy as np\n",
        "import pandas as pd\n",
        "\n",
        "from sklearn.feature_extraction.text import CountVectorizer\n",
        "from sklearn.model_selection import train_test_split\n",
        "from sklearn.linear_model import LogisticRegression\n",
        "from sklearn.metrics import confusion_matrix, classification_report\n",
        "\n",
        "import matplotlib.pyplot as plt"
      ]
    },
    {
      "source": [
        "# Convert the json data into DataFrame"
      ],
      "cell_type": "markdown",
      "metadata": {
        "id": "44bpQmKJml_I"
      }
    },
    {
      "cell_type": "code",
      "execution_count": 38,
      "metadata": {
        "tags": [],
        "id": "dajOw6-6ml_K"
      },
      "outputs": [],
      "source": [
        "# import json\n",
        "\n",
        "# # Get the data from json file\n",
        "# with open('./train.json') as file:\n",
        "#     data = json.load(file)\n",
        "\n",
        "# # Print the data text and target\n",
        "# count = 0\n",
        "# for i in data:\n",
        "#     print(data[i], ': ', i, '\\n')\n",
        "\n",
        "#     # Stop loop by undo comment\n",
        "#     count += 1\n",
        "#     if count == 5:\n",
        "#         break\n",
        "\n",
        "# # Convert the json file into DataFrame\n",
        "# df = pd.DataFrame(columns=['News', 'Target'])\n",
        "\n",
        "# for index in data:\n",
        "#     df.loc[index] = [index, data[index]]\n",
        "#     # df.append({\"News\": index, \"Target\": data[index]}, ignore_index=True)\n",
        "# df.reset_index(drop=True, inplace=True)\n",
        "# df.head()"
      ]
    },
    {
      "source": [
        "# Read the train.csv file"
      ],
      "cell_type": "markdown",
      "metadata": {
        "id": "CnYYnwkcml_L"
      }
    },
    {
      "cell_type": "code",
      "execution_count": 39,
      "metadata": {
        "colab": {
          "base_uri": "https://localhost:8080/",
          "height": 380
        },
        "id": "hPbNQRb8ml_M",
        "outputId": "577c8f24-922f-4868-89d6-13aab88b2058"
      },
      "outputs": [
        {
          "output_type": "stream",
          "name": "stdout",
          "text": [
            "Length of the original dataset  81222\n"
          ]
        },
        {
          "output_type": "execute_result",
          "data": {
            "text/plain": [
              "     NewID   Category                                              Title  \\\n",
              "0   N88753  lifestyle  The Brands Queen Elizabeth, Prince Charles, an...   \n",
              "1   N45436       news    Walmart Slashes Prices on Last-Generation iPads   \n",
              "2   N23144     health                      50 Worst Habits For Belly Fat   \n",
              "3   N86255     health  Dispose of unwanted prescription drugs during ...   \n",
              "4   N93187       news  The Cost of Trump's Aid Freeze in the Trenches...   \n",
              "5   N75236     health  I Was An NBA Wife. Here's How It Affected My M...   \n",
              "6   N99744     health  How to Get Rid of Skin Tags, According to a De...   \n",
              "7    N5771     health  Check Houston traffic map for current road con...   \n",
              "8  N124534     sports  Should NFL be able to fine players for critici...   \n",
              "9   N51947       news  How to record your screen on Windows, macOS, i...   \n",
              "\n",
              "                                            Abstract  \n",
              "0  Shop the notebooks, jackets, and more that the...  \n",
              "1  Apple's new iPad releases bring big deals on l...  \n",
              "2  These seemingly harmless habits are holding yo...  \n",
              "3                                                NaN  \n",
              "4  Lt. Ivan Molchanets peeked over a parapet of s...  \n",
              "5  I felt like I was a fraud, and being an NBA wi...  \n",
              "6  They seem harmless, but there's a very good re...  \n",
              "7                                                NaN  \n",
              "8  Several fines came down against NFL players fo...  \n",
              "9  The easiest way to record what's happening on ...  "
            ],
            "text/html": [
              "\n",
              "  <div id=\"df-87b24659-a969-4945-8110-0f29cfbc69d8\">\n",
              "    <div class=\"colab-df-container\">\n",
              "      <div>\n",
              "<style scoped>\n",
              "    .dataframe tbody tr th:only-of-type {\n",
              "        vertical-align: middle;\n",
              "    }\n",
              "\n",
              "    .dataframe tbody tr th {\n",
              "        vertical-align: top;\n",
              "    }\n",
              "\n",
              "    .dataframe thead th {\n",
              "        text-align: right;\n",
              "    }\n",
              "</style>\n",
              "<table border=\"1\" class=\"dataframe\">\n",
              "  <thead>\n",
              "    <tr style=\"text-align: right;\">\n",
              "      <th></th>\n",
              "      <th>NewID</th>\n",
              "      <th>Category</th>\n",
              "      <th>Title</th>\n",
              "      <th>Abstract</th>\n",
              "    </tr>\n",
              "  </thead>\n",
              "  <tbody>\n",
              "    <tr>\n",
              "      <th>0</th>\n",
              "      <td>N88753</td>\n",
              "      <td>lifestyle</td>\n",
              "      <td>The Brands Queen Elizabeth, Prince Charles, an...</td>\n",
              "      <td>Shop the notebooks, jackets, and more that the...</td>\n",
              "    </tr>\n",
              "    <tr>\n",
              "      <th>1</th>\n",
              "      <td>N45436</td>\n",
              "      <td>news</td>\n",
              "      <td>Walmart Slashes Prices on Last-Generation iPads</td>\n",
              "      <td>Apple's new iPad releases bring big deals on l...</td>\n",
              "    </tr>\n",
              "    <tr>\n",
              "      <th>2</th>\n",
              "      <td>N23144</td>\n",
              "      <td>health</td>\n",
              "      <td>50 Worst Habits For Belly Fat</td>\n",
              "      <td>These seemingly harmless habits are holding yo...</td>\n",
              "    </tr>\n",
              "    <tr>\n",
              "      <th>3</th>\n",
              "      <td>N86255</td>\n",
              "      <td>health</td>\n",
              "      <td>Dispose of unwanted prescription drugs during ...</td>\n",
              "      <td>NaN</td>\n",
              "    </tr>\n",
              "    <tr>\n",
              "      <th>4</th>\n",
              "      <td>N93187</td>\n",
              "      <td>news</td>\n",
              "      <td>The Cost of Trump's Aid Freeze in the Trenches...</td>\n",
              "      <td>Lt. Ivan Molchanets peeked over a parapet of s...</td>\n",
              "    </tr>\n",
              "    <tr>\n",
              "      <th>5</th>\n",
              "      <td>N75236</td>\n",
              "      <td>health</td>\n",
              "      <td>I Was An NBA Wife. Here's How It Affected My M...</td>\n",
              "      <td>I felt like I was a fraud, and being an NBA wi...</td>\n",
              "    </tr>\n",
              "    <tr>\n",
              "      <th>6</th>\n",
              "      <td>N99744</td>\n",
              "      <td>health</td>\n",
              "      <td>How to Get Rid of Skin Tags, According to a De...</td>\n",
              "      <td>They seem harmless, but there's a very good re...</td>\n",
              "    </tr>\n",
              "    <tr>\n",
              "      <th>7</th>\n",
              "      <td>N5771</td>\n",
              "      <td>health</td>\n",
              "      <td>Check Houston traffic map for current road con...</td>\n",
              "      <td>NaN</td>\n",
              "    </tr>\n",
              "    <tr>\n",
              "      <th>8</th>\n",
              "      <td>N124534</td>\n",
              "      <td>sports</td>\n",
              "      <td>Should NFL be able to fine players for critici...</td>\n",
              "      <td>Several fines came down against NFL players fo...</td>\n",
              "    </tr>\n",
              "    <tr>\n",
              "      <th>9</th>\n",
              "      <td>N51947</td>\n",
              "      <td>news</td>\n",
              "      <td>How to record your screen on Windows, macOS, i...</td>\n",
              "      <td>The easiest way to record what's happening on ...</td>\n",
              "    </tr>\n",
              "  </tbody>\n",
              "</table>\n",
              "</div>\n",
              "      <button class=\"colab-df-convert\" onclick=\"convertToInteractive('df-87b24659-a969-4945-8110-0f29cfbc69d8')\"\n",
              "              title=\"Convert this dataframe to an interactive table.\"\n",
              "              style=\"display:none;\">\n",
              "        \n",
              "  <svg xmlns=\"http://www.w3.org/2000/svg\" height=\"24px\"viewBox=\"0 0 24 24\"\n",
              "       width=\"24px\">\n",
              "    <path d=\"M0 0h24v24H0V0z\" fill=\"none\"/>\n",
              "    <path d=\"M18.56 5.44l.94 2.06.94-2.06 2.06-.94-2.06-.94-.94-2.06-.94 2.06-2.06.94zm-11 1L8.5 8.5l.94-2.06 2.06-.94-2.06-.94L8.5 2.5l-.94 2.06-2.06.94zm10 10l.94 2.06.94-2.06 2.06-.94-2.06-.94-.94-2.06-.94 2.06-2.06.94z\"/><path d=\"M17.41 7.96l-1.37-1.37c-.4-.4-.92-.59-1.43-.59-.52 0-1.04.2-1.43.59L10.3 9.45l-7.72 7.72c-.78.78-.78 2.05 0 2.83L4 21.41c.39.39.9.59 1.41.59.51 0 1.02-.2 1.41-.59l7.78-7.78 2.81-2.81c.8-.78.8-2.07 0-2.86zM5.41 20L4 18.59l7.72-7.72 1.47 1.35L5.41 20z\"/>\n",
              "  </svg>\n",
              "      </button>\n",
              "      \n",
              "  <style>\n",
              "    .colab-df-container {\n",
              "      display:flex;\n",
              "      flex-wrap:wrap;\n",
              "      gap: 12px;\n",
              "    }\n",
              "\n",
              "    .colab-df-convert {\n",
              "      background-color: #E8F0FE;\n",
              "      border: none;\n",
              "      border-radius: 50%;\n",
              "      cursor: pointer;\n",
              "      display: none;\n",
              "      fill: #1967D2;\n",
              "      height: 32px;\n",
              "      padding: 0 0 0 0;\n",
              "      width: 32px;\n",
              "    }\n",
              "\n",
              "    .colab-df-convert:hover {\n",
              "      background-color: #E2EBFA;\n",
              "      box-shadow: 0px 1px 2px rgba(60, 64, 67, 0.3), 0px 1px 3px 1px rgba(60, 64, 67, 0.15);\n",
              "      fill: #174EA6;\n",
              "    }\n",
              "\n",
              "    [theme=dark] .colab-df-convert {\n",
              "      background-color: #3B4455;\n",
              "      fill: #D2E3FC;\n",
              "    }\n",
              "\n",
              "    [theme=dark] .colab-df-convert:hover {\n",
              "      background-color: #434B5C;\n",
              "      box-shadow: 0px 1px 3px 1px rgba(0, 0, 0, 0.15);\n",
              "      filter: drop-shadow(0px 1px 2px rgba(0, 0, 0, 0.3));\n",
              "      fill: #FFFFFF;\n",
              "    }\n",
              "  </style>\n",
              "\n",
              "      <script>\n",
              "        const buttonEl =\n",
              "          document.querySelector('#df-87b24659-a969-4945-8110-0f29cfbc69d8 button.colab-df-convert');\n",
              "        buttonEl.style.display =\n",
              "          google.colab.kernel.accessAllowed ? 'block' : 'none';\n",
              "\n",
              "        async function convertToInteractive(key) {\n",
              "          const element = document.querySelector('#df-87b24659-a969-4945-8110-0f29cfbc69d8');\n",
              "          const dataTable =\n",
              "            await google.colab.kernel.invokeFunction('convertToInteractive',\n",
              "                                                     [key], {});\n",
              "          if (!dataTable) return;\n",
              "\n",
              "          const docLinkHtml = 'Like what you see? Visit the ' +\n",
              "            '<a target=\"_blank\" href=https://colab.research.google.com/notebooks/data_table.ipynb>data table notebook</a>'\n",
              "            + ' to learn more about interactive tables.';\n",
              "          element.innerHTML = '';\n",
              "          dataTable['output_type'] = 'display_data';\n",
              "          await google.colab.output.renderOutput(dataTable, element);\n",
              "          const docLink = document.createElement('div');\n",
              "          docLink.innerHTML = docLinkHtml;\n",
              "          element.appendChild(docLink);\n",
              "        }\n",
              "      </script>\n",
              "    </div>\n",
              "  </div>\n",
              "  "
            ]
          },
          "metadata": {},
          "execution_count": 39
        }
      ],
      "source": [
        "df = pd.read_csv('train.csv', index_col=0)\n",
        "print('Length of the original dataset ', len(df))\n",
        "df.head(10)"
      ]
    },
    {
      "cell_type": "code",
      "execution_count": 40,
      "metadata": {
        "tags": [],
        "colab": {
          "base_uri": "https://localhost:8080/",
          "height": 380
        },
        "id": "dLR6mWkiml_N",
        "outputId": "663121c0-9156-4227-92af-41a46cac1f7f"
      },
      "outputs": [
        {
          "output_type": "stream",
          "name": "stdout",
          "text": [
            "Length of the dropping NaN dataset  77100\n"
          ]
        },
        {
          "output_type": "execute_result",
          "data": {
            "text/plain": [
              "      NewID   Category                                              Title  \\\n",
              "0    N88753  lifestyle  The Brands Queen Elizabeth, Prince Charles, an...   \n",
              "1    N45436       news    Walmart Slashes Prices on Last-Generation iPads   \n",
              "2    N23144     health                      50 Worst Habits For Belly Fat   \n",
              "4    N93187       news  The Cost of Trump's Aid Freeze in the Trenches...   \n",
              "5    N75236     health  I Was An NBA Wife. Here's How It Affected My M...   \n",
              "6    N99744     health  How to Get Rid of Skin Tags, According to a De...   \n",
              "8   N124534     sports  Should NFL be able to fine players for critici...   \n",
              "9    N51947       news  How to record your screen on Windows, macOS, i...   \n",
              "10   N59220    weather  It's been Orlando's hottest October ever so fa...   \n",
              "11   N17957     health  This Guy Altered His Diet and Training to Drop...   \n",
              "\n",
              "                                             Abstract  \\\n",
              "0   Shop the notebooks, jackets, and more that the...   \n",
              "1   Apple's new iPad releases bring big deals on l...   \n",
              "2   These seemingly harmless habits are holding yo...   \n",
              "4   Lt. Ivan Molchanets peeked over a parapet of s...   \n",
              "5   I felt like I was a fraud, and being an NBA wi...   \n",
              "6   They seem harmless, but there's a very good re...   \n",
              "8   Several fines came down against NFL players fo...   \n",
              "9   The easiest way to record what's happening on ...   \n",
              "10  There won't be a chill down to your bones this...   \n",
              "11  Take Brandon Reid's advice: \"Don't worry what ...   \n",
              "\n",
              "                                                 News  \n",
              "0   The Brands Queen Elizabeth, Prince Charles, an...  \n",
              "1   Walmart Slashes Prices on Last-Generation iPad...  \n",
              "2   50 Worst Habits For Belly Fat These seemingly ...  \n",
              "4   The Cost of Trump's Aid Freeze in the Trenches...  \n",
              "5   I Was An NBA Wife. Here's How It Affected My M...  \n",
              "6   How to Get Rid of Skin Tags, According to a De...  \n",
              "8   Should NFL be able to fine players for critici...  \n",
              "9   How to record your screen on Windows, macOS, i...  \n",
              "10  It's been Orlando's hottest October ever so fa...  \n",
              "11  This Guy Altered His Diet and Training to Drop...  "
            ],
            "text/html": [
              "\n",
              "  <div id=\"df-10a5c32d-ef32-4558-9a17-9c1d811b6e34\">\n",
              "    <div class=\"colab-df-container\">\n",
              "      <div>\n",
              "<style scoped>\n",
              "    .dataframe tbody tr th:only-of-type {\n",
              "        vertical-align: middle;\n",
              "    }\n",
              "\n",
              "    .dataframe tbody tr th {\n",
              "        vertical-align: top;\n",
              "    }\n",
              "\n",
              "    .dataframe thead th {\n",
              "        text-align: right;\n",
              "    }\n",
              "</style>\n",
              "<table border=\"1\" class=\"dataframe\">\n",
              "  <thead>\n",
              "    <tr style=\"text-align: right;\">\n",
              "      <th></th>\n",
              "      <th>NewID</th>\n",
              "      <th>Category</th>\n",
              "      <th>Title</th>\n",
              "      <th>Abstract</th>\n",
              "      <th>News</th>\n",
              "    </tr>\n",
              "  </thead>\n",
              "  <tbody>\n",
              "    <tr>\n",
              "      <th>0</th>\n",
              "      <td>N88753</td>\n",
              "      <td>lifestyle</td>\n",
              "      <td>The Brands Queen Elizabeth, Prince Charles, an...</td>\n",
              "      <td>Shop the notebooks, jackets, and more that the...</td>\n",
              "      <td>The Brands Queen Elizabeth, Prince Charles, an...</td>\n",
              "    </tr>\n",
              "    <tr>\n",
              "      <th>1</th>\n",
              "      <td>N45436</td>\n",
              "      <td>news</td>\n",
              "      <td>Walmart Slashes Prices on Last-Generation iPads</td>\n",
              "      <td>Apple's new iPad releases bring big deals on l...</td>\n",
              "      <td>Walmart Slashes Prices on Last-Generation iPad...</td>\n",
              "    </tr>\n",
              "    <tr>\n",
              "      <th>2</th>\n",
              "      <td>N23144</td>\n",
              "      <td>health</td>\n",
              "      <td>50 Worst Habits For Belly Fat</td>\n",
              "      <td>These seemingly harmless habits are holding yo...</td>\n",
              "      <td>50 Worst Habits For Belly Fat These seemingly ...</td>\n",
              "    </tr>\n",
              "    <tr>\n",
              "      <th>4</th>\n",
              "      <td>N93187</td>\n",
              "      <td>news</td>\n",
              "      <td>The Cost of Trump's Aid Freeze in the Trenches...</td>\n",
              "      <td>Lt. Ivan Molchanets peeked over a parapet of s...</td>\n",
              "      <td>The Cost of Trump's Aid Freeze in the Trenches...</td>\n",
              "    </tr>\n",
              "    <tr>\n",
              "      <th>5</th>\n",
              "      <td>N75236</td>\n",
              "      <td>health</td>\n",
              "      <td>I Was An NBA Wife. Here's How It Affected My M...</td>\n",
              "      <td>I felt like I was a fraud, and being an NBA wi...</td>\n",
              "      <td>I Was An NBA Wife. Here's How It Affected My M...</td>\n",
              "    </tr>\n",
              "    <tr>\n",
              "      <th>6</th>\n",
              "      <td>N99744</td>\n",
              "      <td>health</td>\n",
              "      <td>How to Get Rid of Skin Tags, According to a De...</td>\n",
              "      <td>They seem harmless, but there's a very good re...</td>\n",
              "      <td>How to Get Rid of Skin Tags, According to a De...</td>\n",
              "    </tr>\n",
              "    <tr>\n",
              "      <th>8</th>\n",
              "      <td>N124534</td>\n",
              "      <td>sports</td>\n",
              "      <td>Should NFL be able to fine players for critici...</td>\n",
              "      <td>Several fines came down against NFL players fo...</td>\n",
              "      <td>Should NFL be able to fine players for critici...</td>\n",
              "    </tr>\n",
              "    <tr>\n",
              "      <th>9</th>\n",
              "      <td>N51947</td>\n",
              "      <td>news</td>\n",
              "      <td>How to record your screen on Windows, macOS, i...</td>\n",
              "      <td>The easiest way to record what's happening on ...</td>\n",
              "      <td>How to record your screen on Windows, macOS, i...</td>\n",
              "    </tr>\n",
              "    <tr>\n",
              "      <th>10</th>\n",
              "      <td>N59220</td>\n",
              "      <td>weather</td>\n",
              "      <td>It's been Orlando's hottest October ever so fa...</td>\n",
              "      <td>There won't be a chill down to your bones this...</td>\n",
              "      <td>It's been Orlando's hottest October ever so fa...</td>\n",
              "    </tr>\n",
              "    <tr>\n",
              "      <th>11</th>\n",
              "      <td>N17957</td>\n",
              "      <td>health</td>\n",
              "      <td>This Guy Altered His Diet and Training to Drop...</td>\n",
              "      <td>Take Brandon Reid's advice: \"Don't worry what ...</td>\n",
              "      <td>This Guy Altered His Diet and Training to Drop...</td>\n",
              "    </tr>\n",
              "  </tbody>\n",
              "</table>\n",
              "</div>\n",
              "      <button class=\"colab-df-convert\" onclick=\"convertToInteractive('df-10a5c32d-ef32-4558-9a17-9c1d811b6e34')\"\n",
              "              title=\"Convert this dataframe to an interactive table.\"\n",
              "              style=\"display:none;\">\n",
              "        \n",
              "  <svg xmlns=\"http://www.w3.org/2000/svg\" height=\"24px\"viewBox=\"0 0 24 24\"\n",
              "       width=\"24px\">\n",
              "    <path d=\"M0 0h24v24H0V0z\" fill=\"none\"/>\n",
              "    <path d=\"M18.56 5.44l.94 2.06.94-2.06 2.06-.94-2.06-.94-.94-2.06-.94 2.06-2.06.94zm-11 1L8.5 8.5l.94-2.06 2.06-.94-2.06-.94L8.5 2.5l-.94 2.06-2.06.94zm10 10l.94 2.06.94-2.06 2.06-.94-2.06-.94-.94-2.06-.94 2.06-2.06.94z\"/><path d=\"M17.41 7.96l-1.37-1.37c-.4-.4-.92-.59-1.43-.59-.52 0-1.04.2-1.43.59L10.3 9.45l-7.72 7.72c-.78.78-.78 2.05 0 2.83L4 21.41c.39.39.9.59 1.41.59.51 0 1.02-.2 1.41-.59l7.78-7.78 2.81-2.81c.8-.78.8-2.07 0-2.86zM5.41 20L4 18.59l7.72-7.72 1.47 1.35L5.41 20z\"/>\n",
              "  </svg>\n",
              "      </button>\n",
              "      \n",
              "  <style>\n",
              "    .colab-df-container {\n",
              "      display:flex;\n",
              "      flex-wrap:wrap;\n",
              "      gap: 12px;\n",
              "    }\n",
              "\n",
              "    .colab-df-convert {\n",
              "      background-color: #E8F0FE;\n",
              "      border: none;\n",
              "      border-radius: 50%;\n",
              "      cursor: pointer;\n",
              "      display: none;\n",
              "      fill: #1967D2;\n",
              "      height: 32px;\n",
              "      padding: 0 0 0 0;\n",
              "      width: 32px;\n",
              "    }\n",
              "\n",
              "    .colab-df-convert:hover {\n",
              "      background-color: #E2EBFA;\n",
              "      box-shadow: 0px 1px 2px rgba(60, 64, 67, 0.3), 0px 1px 3px 1px rgba(60, 64, 67, 0.15);\n",
              "      fill: #174EA6;\n",
              "    }\n",
              "\n",
              "    [theme=dark] .colab-df-convert {\n",
              "      background-color: #3B4455;\n",
              "      fill: #D2E3FC;\n",
              "    }\n",
              "\n",
              "    [theme=dark] .colab-df-convert:hover {\n",
              "      background-color: #434B5C;\n",
              "      box-shadow: 0px 1px 3px 1px rgba(0, 0, 0, 0.15);\n",
              "      filter: drop-shadow(0px 1px 2px rgba(0, 0, 0, 0.3));\n",
              "      fill: #FFFFFF;\n",
              "    }\n",
              "  </style>\n",
              "\n",
              "      <script>\n",
              "        const buttonEl =\n",
              "          document.querySelector('#df-10a5c32d-ef32-4558-9a17-9c1d811b6e34 button.colab-df-convert');\n",
              "        buttonEl.style.display =\n",
              "          google.colab.kernel.accessAllowed ? 'block' : 'none';\n",
              "\n",
              "        async function convertToInteractive(key) {\n",
              "          const element = document.querySelector('#df-10a5c32d-ef32-4558-9a17-9c1d811b6e34');\n",
              "          const dataTable =\n",
              "            await google.colab.kernel.invokeFunction('convertToInteractive',\n",
              "                                                     [key], {});\n",
              "          if (!dataTable) return;\n",
              "\n",
              "          const docLinkHtml = 'Like what you see? Visit the ' +\n",
              "            '<a target=\"_blank\" href=https://colab.research.google.com/notebooks/data_table.ipynb>data table notebook</a>'\n",
              "            + ' to learn more about interactive tables.';\n",
              "          element.innerHTML = '';\n",
              "          dataTable['output_type'] = 'display_data';\n",
              "          await google.colab.output.renderOutput(dataTable, element);\n",
              "          const docLink = document.createElement('div');\n",
              "          docLink.innerHTML = docLinkHtml;\n",
              "          element.appendChild(docLink);\n",
              "        }\n",
              "      </script>\n",
              "    </div>\n",
              "  </div>\n",
              "  "
            ]
          },
          "metadata": {},
          "execution_count": 40
        }
      ],
      "source": [
        "# Combine the features Title and Abstract into one & Drop the unuseful data feature columns\n",
        "df['News'] = df['Title'].str.cat(df['Abstract'],sep=\" \")\n",
        "# dataset = df.drop(['NewID', 'Title', 'Abstract'],axis='columns')\n",
        "\n",
        "# Drop all rows that contain NaN under those columns\n",
        "df.dropna(subset = [\"News\"], inplace=True)\n",
        "print('Length of the dropping NaN dataset ', len(df))\n",
        "\n",
        "df.head(10)"
      ]
    },
    {
      "source": [
        "# Get each unique features and plot their distribution"
      ],
      "cell_type": "markdown",
      "metadata": {
        "id": "9COBLaqeml_O"
      }
    },
    {
      "cell_type": "code",
      "execution_count": 41,
      "metadata": {
        "colab": {
          "base_uri": "https://localhost:8080/"
        },
        "id": "859GmlY8ml_O",
        "outputId": "a1aae4ac-e12d-4a58-cc1b-cda88322db91"
      },
      "outputs": [
        {
          "output_type": "stream",
          "name": "stdout",
          "text": [
            "Number of Catergories  17  which contains\n"
          ]
        },
        {
          "output_type": "execute_result",
          "data": {
            "text/plain": [
              "array(['lifestyle', 'news', 'health', 'sports', 'weather',\n",
              "       'entertainment', 'foodanddrink', 'autos', 'travel', 'video', 'tv',\n",
              "       'finance', 'movies', 'music', 'kids', 'middleeast', 'games'],\n",
              "      dtype=object)"
            ]
          },
          "metadata": {},
          "execution_count": 41
        }
      ],
      "source": [
        "# Get the unique Catergory classes in the dataset\n",
        "classes = df.Category.unique()\n",
        "print('Number of Catergories ', len(classes), ' which contains')\n",
        "classes"
      ]
    },
    {
      "cell_type": "code",
      "execution_count": 42,
      "metadata": {
        "colab": {
          "base_uri": "https://localhost:8080/",
          "height": 345
        },
        "id": "2AuNroEfml_P",
        "outputId": "f34f9e25-2f98-48ac-8b86-bb00ba93e2b7"
      },
      "outputs": [
        {
          "output_type": "execute_result",
          "data": {
            "text/plain": [
              "<matplotlib.axes._subplots.AxesSubplot at 0x7fe399e639d0>"
            ]
          },
          "metadata": {},
          "execution_count": 42
        },
        {
          "output_type": "display_data",
          "data": {
            "text/plain": [
              "<Figure size 432x288 with 1 Axes>"
            ],
            "image/png": "[encoded data removed]"
          },
          "metadata": {
            "needs_background": "light"
          }
        }
      ],
      "source": [
        "counts = []\n",
        "\n",
        "for i in classes:\n",
        "  count = len(df[df['Category']==i])\n",
        "  counts.append(count)\n",
        "\n",
        "categories = ['lifestyle', 'news', 'health', 'sports', 'weather',\n",
        "       'entertainment', 'foodanddrink', 'autos', 'travel', 'video', 'tv',\n",
        "       'finance', 'movies', 'music', 'kids', 'middleeast', 'games']\n",
        "\n",
        "# Create a sample dataframe with an text index and plot bar chart\n",
        "plotdata = pd.DataFrame({\"category counts\": counts}, index=categories)\n",
        "plotdata.plot(kind=\"bar\")"
      ]
    },
    {
      "cell_type": "markdown",
      "source": [
        "# Vectorizing and modelling only the feature Title text data"
      ],
      "metadata": {
        "id": "hag1y4kHo08E"
      }
    },
    {
      "cell_type": "code",
      "source": [
        "x_title_train, x_title_test, y_title_train, y_title_test = train_test_split(df.Title.values, df.Category.values, test_size=0.20, random_state=32)\n",
        "print('Length of title train data', len(x_title_train), '\\n')\n",
        "print('Length of title test data', len(x_title_test), '\\n')\n",
        "\n",
        "title_vectorize = CountVectorizer()\n",
        "X_title_train = title_vectorize.fit_transform(x_title_train)\n",
        "X_title_test = title_vectorize.transform(x_title_test)\n",
        "print('The first new \\n\\n', x_title_train[0], '\\n', X_title_train[0])\n",
        "\n",
        "model_title = LogisticRegression(max_iter=1000)\n",
        "model_title.fit(X_title_train, y_title_train)\n",
        "\n",
        "# Save the model to disk\n",
        "import pickle\n",
        "filename_title = 'lg_title_model.sav'\n",
        "pickle.dump(model_title, open(filename_title, 'wb'))"
      ],
      "metadata": {
        "colab": {
          "base_uri": "https://localhost:8080/"
        },
        "id": "9NpdPyYGpDHN",
        "outputId": "97165f31-ae42-43fb-e78f-a7eb9b7f8b59"
      },
      "execution_count": 43,
      "outputs": [
        {
          "output_type": "stream",
          "name": "stdout",
          "text": [
            "Length of title train data 61680 \n",
            "\n",
            "Length of title test data 15420 \n",
            "\n",
            "The first new \n",
            "\n",
            " 5 charged in alcohol poisoning death of UC Irvine fraternity brother \n",
            "   (0, 5905)\t1\n",
            "  (0, 15214)\t1\n",
            "  (0, 1649)\t1\n",
            "  (0, 23076)\t1\n",
            "  (0, 8276)\t1\n",
            "  (0, 21208)\t1\n",
            "  (0, 31385)\t1\n",
            "  (0, 15800)\t1\n",
            "  (0, 12258)\t1\n",
            "  (0, 4750)\t1\n"
          ]
        }
      ]
    },
    {
      "cell_type": "markdown",
      "source": [
        "# Accuracy test on feature Title only\n",
        "\n",
        "---\n",
        "\n"
      ],
      "metadata": {
        "id": "O-nl_eFasFwq"
      }
    },
    {
      "cell_type": "code",
      "source": [
        "loaded_model_title = pickle.load(open(filename_title, 'rb'))\n",
        "title_score = loaded_model_title.score(X_title_test, y_title_test)\n",
        "print('Accuracy on title only is: ', title_score)"
      ],
      "metadata": {
        "colab": {
          "base_uri": "https://localhost:8080/"
        },
        "id": "UCN1II2urJ0e",
        "outputId": "80f1ade5-e299-4237-ecfa-04723638c3fd"
      },
      "execution_count": 44,
      "outputs": [
        {
          "output_type": "stream",
          "name": "stdout",
          "text": [
            "Accuracy on title only is:  0.7206874189364462\n"
          ]
        }
      ]
    },
    {
      "cell_type": "markdown",
      "source": [
        "# Vectorizing and modelling the features Title and Abstract which is the column News in the DataFrame text data"
      ],
      "metadata": {
        "id": "F5pFBrJVs5nI"
      }
    },
    {
      "cell_type": "code",
      "execution_count": 29,
      "metadata": {
        "outputId": "cc1aa96d-afa8-497e-d7d9-9c935cef2748",
        "colab": {
          "base_uri": "https://localhost:8080/"
        },
        "id": "JUFZSnuXpz_3"
      },
      "outputs": [
        {
          "output_type": "stream",
          "name": "stdout",
          "text": [
            "Length of train data 61680 \n",
            "\n",
            "Length of test data 15420 \n",
            "\n",
            "The first new \n",
            "\n",
            " 5 charged in alcohol poisoning death of UC Irvine fraternity brother Five young men have been charged in connection with the death of their fraternity brother, who succumbed to alcohol poisoning after a booze-soaked party this year. \n",
            "   (0, 11259)\t2\n",
            "  (0, 27686)\t2\n",
            "  (0, 3543)\t2\n",
            "  (0, 42312)\t2\n",
            "  (0, 15417)\t2\n",
            "  (0, 39006)\t2\n",
            "  (0, 56732)\t1\n",
            "  (0, 28740)\t1\n",
            "  (0, 22295)\t2\n",
            "  (0, 9150)\t2\n",
            "  (0, 21446)\t1\n",
            "  (0, 60958)\t1\n",
            "  (0, 35322)\t1\n",
            "  (0, 25548)\t1\n",
            "  (0, 6791)\t1\n",
            "  (0, 13298)\t1\n",
            "  (0, 60091)\t1\n",
            "  (0, 54787)\t1\n",
            "  (0, 54809)\t1\n",
            "  (0, 59724)\t1\n",
            "  (0, 53048)\t1\n",
            "  (0, 55342)\t1\n",
            "  (0, 3197)\t1\n",
            "  (0, 8324)\t1\n",
            "  (0, 50903)\t1\n",
            "  (0, 40639)\t1\n",
            "  (0, 54920)\t1\n",
            "  (0, 60815)\t1\n"
          ]
        }
      ],
      "source": [
        "# Vectorizing the text values using CountVectorizer\n",
        "x_news = df.News.values\n",
        "y_news = df.Category.values\n",
        "x_news_train, x_news_test, y_news_train, y_news_test = train_test_split(x_news, y_news, test_size=0.20, random_state=32)\n",
        "\n",
        "# y_train=y_train.astype('int')\n",
        "print('Length of train data', len(x_news_train), '\\n')\n",
        "print('Length of test data', len(x_news_test), '\\n')\n",
        "\n",
        "news_vectorize = CountVectorizer()\n",
        "# vectorize.fit(x_train)\n",
        "X_news_train = news_vectorize.fit_transform(x_news_train)\n",
        "X_news_test = news_vectorize.transform(x_news_test)\n",
        "print('The first new \\n\\n', x_news_train[0], '\\n', X_news_train[0])\n",
        "\n",
        "# Train the model using LogisticRegression algorithm\n",
        "model_news = LogisticRegression(max_iter=1000)\n",
        "model_news.fit(X_news_train, y_news_train)\n",
        "\n",
        "# Save the model to disk\n",
        "import pickle\n",
        "filename_news = 'lg_news_model.sav'\n",
        "pickle.dump(model_news, open(filename_news, 'wb'))"
      ]
    },
    {
      "cell_type": "markdown",
      "source": [
        "# Accuracy test on feature Title and Abstract - News"
      ],
      "metadata": {
        "id": "3eXIbZyDuPXW"
      }
    },
    {
      "cell_type": "code",
      "execution_count": 45,
      "metadata": {
        "colab": {
          "base_uri": "https://localhost:8080/"
        },
        "id": "B9b48hz8ml_T",
        "outputId": "a34d9ae2-cd43-45fd-b8e0-ecdc66998ece"
      },
      "outputs": [
        {
          "output_type": "stream",
          "name": "stdout",
          "text": [
            "Accuracy on title and abstract is:  0.7431258106355383\n"
          ]
        }
      ],
      "source": [
        "# Using the saved model to get the accuracy on test data\n",
        "loaded_model_news = pickle.load(open(filename_news, 'rb'))\n",
        "news_score = loaded_model_news.score(X_news_test, y_news_test)\n",
        "print('Accuracy on title and abstract is: ', news_score)"
      ]
    },
    {
      "source": [
        "# [Testing accuracy of the model using test.csv file]"
      ],
      "cell_type": "markdown",
      "metadata": {
        "id": "V00ZQjxlml_U"
      }
    },
    {
      "cell_type": "code",
      "source": [
        "test_df = pd.read_csv('./test.csv', index_col=0)\n",
        "test_df['News'] = test_df['Title'].str.cat(test_df['Abstract'],sep=\" \")\n",
        "\n",
        "test_df.dropna(subset = [\"News\"], inplace=True)"
      ],
      "metadata": {
        "id": "SYNVd5Aa9Lq7"
      },
      "execution_count": 56,
      "outputs": []
    },
    {
      "cell_type": "code",
      "source": [
        "# Get the unique Catergory classes in the test.csv dataset\n",
        "classes_test = test_df.Category.unique()\n",
        "print('Number of Catergories ', len(classes_test), ' which contains')\n",
        "classes_test"
      ],
      "metadata": {
        "colab": {
          "base_uri": "https://localhost:8080/"
        },
        "id": "V3AV3r3X9YDT",
        "outputId": "ffb2d216-75ec-4472-a8fd-8de1a26db53c"
      },
      "execution_count": 60,
      "outputs": [
        {
          "output_type": "stream",
          "name": "stdout",
          "text": [
            "Number of Catergories  16  which contains\n"
          ]
        },
        {
          "output_type": "execute_result",
          "data": {
            "text/plain": [
              "array(['sports', 'news', 'finance', 'autos', 'lifestyle', 'travel',\n",
              "       'weather', 'health', 'video', 'foodanddrink', 'movies', 'tv',\n",
              "       'music', 'entertainment', 'kids', 'northamerica'], dtype=object)"
            ]
          },
          "metadata": {},
          "execution_count": 60
        }
      ]
    },
    {
      "cell_type": "code",
      "source": [
        "counts_test = []\n",
        "\n",
        "for i in classes_test:\n",
        "  count = len(test_df[test_df['Category']==i])\n",
        "  counts_test.append(count)\n",
        "\n",
        "categories_test = ['sports', 'news', 'finance', 'autos', 'lifestyle', 'travel',\n",
        "       'weather', 'health', 'video', 'foodanddrink', 'movies', 'tv',\n",
        "       'music', 'entertainment', 'kids', 'northamerica']\n",
        "\n",
        "# Create a sample dataframe with an text index and plot bar chart\n",
        "plotdata_test = pd.DataFrame({\"category counts\": counts_test}, index=categories_test)\n",
        "plotdata_test.plot(kind=\"bar\")"
      ],
      "metadata": {
        "colab": {
          "base_uri": "https://localhost:8080/",
          "height": 345
        },
        "id": "4-LHUfn49nbf",
        "outputId": "6eeb7829-5eec-4a98-8245-34475d3ac370"
      },
      "execution_count": 61,
      "outputs": [
        {
          "output_type": "execute_result",
          "data": {
            "text/plain": [
              "<matplotlib.axes._subplots.AxesSubplot at 0x7fe395dc6bd0>"
            ]
          },
          "metadata": {},
          "execution_count": 61
        },
        {
          "output_type": "display_data",
          "data": {
            "text/plain": [
              "<Figure size 432x288 with 1 Axes>"
            ],
            "image/png": "[encoded data removed]"
          },
          "metadata": {
            "needs_background": "light"
          }
        }
      ]
    },
    {
      "cell_type": "code",
      "execution_count": 62,
      "metadata": {
        "colab": {
          "base_uri": "https://localhost:8080/"
        },
        "id": "X8Xg8720ml_U",
        "outputId": "d4505c2a-d451-4ad5-dfac-369877320ea7"
      },
      "outputs": [
        {
          "output_type": "stream",
          "name": "stdout",
          "text": [
            "Test.csv's on feature Title accuracy:  0.7014517147065011\n",
            "Test.csv's on feature Title and Abstract - News accuracy:  0.7305386071954555\n"
          ]
        }
      ],
      "source": [
        "# Testing the accuracy of only Title feature on test.csv file\n",
        "feature_test_title, label_test_title = test_df.Title.values, test_df.Category.values\n",
        "Feature_test_title = title_vectorize.transform(feature_test_title)\n",
        "accuracy_title = loaded_model_title.score(Feature_test_title, label_test_title)\n",
        "print(\"Test.csv's on feature Title accuracy: \", accuracy_title)\n",
        "\n",
        "# Testing the accuracy of Title and Abstract - News feature on test.csv file\n",
        "feature_test_news, label_test_news = test_df.News.values, test_df.Category.values\n",
        "Feature_test_news = news_vectorize.transform(feature_test_news)\n",
        "accuracy_news = loaded_model_news.score(Feature_test_news, label_test_news)\n",
        "print(\"Test.csv's on feature Title and Abstract - News accuracy: \", accuracy_news)"
      ]
    },
    {
      "cell_type": "markdown",
      "source": [
        "# Predict the features label based on two models\n",
        "  ## - model 1 testing only feature Title"
      ],
      "metadata": {
        "id": "4xI3Ethf2nBc"
      }
    },
    {
      "cell_type": "code",
      "execution_count": 63,
      "metadata": {
        "colab": {
          "base_uri": "https://localhost:8080/"
        },
        "id": "r5WaQT8wml_T",
        "outputId": "870f7d2b-ff40-4d25-f6de-956ec79c0218"
      },
      "outputs": [
        {
          "output_type": "execute_result",
          "data": {
            "text/plain": [
              "array(['weather'], dtype=object)"
            ]
          },
          "metadata": {},
          "execution_count": 63
        }
      ],
      "source": [
        "#Model 1 on Title only (Test.csv): N5635,weather,Roads likely to turn slick as light snow falls across the Kansas City area,\"Roads across the Kansas City area could become slick Monday as a wintry mix of rain, drizzle and light snow mixes with cold Canadian air, turning bridges and overpasses icy in spots. \"\"It's going to be a day we really have to keep a close eye on conditions outside,\"\" said FOX4 meteorologist Karli Ritter, who provides weather updates to The Star. \"\"The road conditions may not be so great ...\"\n",
        "\n",
        "string_title = title_vectorize.transform([\"Roads likely to turn slick as light snow falls across the Kansas City area\"])\n",
        "loaded_model_title.predict(string_title)\n"
      ]
    },
    {
      "cell_type": "markdown",
      "source": [
        "  ## - model 2 testing features Title and Abstract"
      ],
      "metadata": {
        "id": "JAdcFr_A59j4"
      }
    },
    {
      "cell_type": "code",
      "source": [
        "#Model 2 on Title and Abstract: N42356,sports,Gerrit Cole and Stephen Strasburg will cash in on their postseason dominance,They have all the leverage after dominant Octobers.\n",
        "\n",
        "string_news = news_vectorize.transform([\"Gerrit Cole and Stephen Strasburg will cash in on their postseason dominance They have all the leverage after dominant Octobers.\"])\n",
        "loaded_model_news.predict(string_news)"
      ],
      "metadata": {
        "colab": {
          "base_uri": "https://localhost:8080/"
        },
        "id": "3kgTtKju6JH1",
        "outputId": "68b5fd09-29b9-46b7-e9bd-8ee77e817bf2"
      },
      "execution_count": 64,
      "outputs": [
        {
          "output_type": "execute_result",
          "data": {
            "text/plain": [
              "array(['sports'], dtype=object)"
            ]
          },
          "metadata": {},
          "execution_count": 64
        }
      ]
    }
  ]
}